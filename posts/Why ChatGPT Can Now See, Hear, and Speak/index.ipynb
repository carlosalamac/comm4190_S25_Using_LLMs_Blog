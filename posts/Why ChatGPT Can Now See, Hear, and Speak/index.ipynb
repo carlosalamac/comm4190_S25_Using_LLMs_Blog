{
 "cells": [
  {
   "cell_type": "raw",
   "id": "ceb26b6d-d77d-4a43-8a72-f9758596005e",
   "metadata": {},
   "source": [
    "---\n",
    "title: \"The Rise of Multimodal LLMs: Why ChatGPT Can Now See, Hear, and Speak\n",
    "\n",
    "\"\n",
    "description: Language models used to be simple: you typed something, they typed back. But the newest generation of AI — called multimodal models — is breaking that mold. These systems can now understand images, audio, and even video, making them capable of communicating across multiple channels the way humans do.\n",
    "\n",
    "Welcome to a world where ChatGPT doesn’t just talk — it sees, hears, and speaks.\n",
    "author: \"Carlos Lama\"\n",
    "date: \"4/6/2025\"\n",
    "categories:\n",
    "  - Multimodality\n",
    "  - Interaction\n",
    "  - Accessibility\n",
    "---"
   ]
  },
  {
   "cell_type": "markdown",
   "id": "b58618eb-dd92-483b-a802-cf2083e61d6d",
   "metadata": {},
   "source": [
    "## **The Rise of Multimodal LLMs: Why ChatGPT Can Now See, Hear, and Speak**\n",
    "\n",
    "#### More Than Just Text\n",
    "Language models used to be simple: you typed something, they typed back. But the newest generation of AI — called multimodal models — is breaking that mold. These systems can now understand images, audio, and even video, making them capable of communicating across multiple channels the way humans do.\n",
    "\n",
    "Welcome to a world where ChatGPT doesn’t just talk — it sees, hears, and speaks."
   ]
  },
  {
   "cell_type": "markdown",
   "id": "e9d7e97a-f92e-411d-8c62-1608d7820af7",
   "metadata": {
    "jp-MarkdownHeadingCollapsed": true
   },
   "source": [
    "### What Are Multimodal LLMs?\n",
    "“Multimodal” means the model takes in and outputs more than one mode of information. Traditional LLMs like GPT-3 only handled text. But now, GPT-4 Turbo (and other models like Gemini 1.5 and Claude) can take inputs such as:\n",
    "\n",
    "- Images (e.g. \"What’s happening in this photo?\")\n",
    "\n",
    "- Audio (e.g. \"Transcribe or summarize this recording.\")\n",
    "\n",
    "- Diagrams, screenshots, or charts\n",
    "\n",
    "- Code snippets, PDFs, and videos (in some models)\n",
    "\n",
    "Even better? They can generate spoken responses — like a voice assistant, but smarter and more conversational.\n"
   ]
  },
  {
   "cell_type": "markdown",
   "id": "0f185c75-dea4-4e1c-983e-978feba55956",
   "metadata": {},
   "source": [
    "### Experiment: Asking AI to Describe an Image\n",
    "To test the visual capabilities, I uploaded this image to ChatGPT (or you could use Gemini or Claude):\n",
    "\n",
    "- [Image Description for ChatGPT:] A photo of a crowded New York subway station, with a man playing saxophone and people watching.\n",
    "\n",
    "***Prompt:*** “What do you see in this image?”\n",
    "\n",
    "***ChatGPT’s response:***\n",
    "\n",
    "- “This is a busy subway platform in what appears to be New York City. A man is playing a saxophone, likely a street performer, while several commuters look on. Some are walking by, while others are stopping to enjoy the performance. The scene conveys a blend of urban rush and spontaneous artistry.”\n",
    "\n",
    "The AI identified not just objects, but the mood of the moment. That’s not just impressive — it’s communicative intelligence."
   ]
  },
  {
   "cell_type": "markdown",
   "id": "90c140df-e2bd-4191-81b4-fd87ed4492ea",
   "metadata": {},
   "source": [
    "### Applications: Accessibility, Learning, and More\n",
    "Multimodal LLMs open up transformative possibilities:\n",
    "\n",
    "- Accessibility: Visually impaired users can get detailed image descriptions; hearing-impaired users can use transcription tools in real time.\n",
    "\n",
    "- Education: AI can explain charts, annotate maps, or walk students through diagrams and videos.\n",
    "\n",
    "- Healthcare & Law: Analyze medical scans or courtroom footage? It’s already being explored.\n",
    "\n",
    "- Creative Workflows: Imagine a tool that drafts ad copy and suggests visuals or voice-over tone — all in one go."
   ]
  },
  {
   "cell_type": "markdown",
   "id": "a97e4239-c4ec-4459-ab42-985162b4b9fc",
   "metadata": {},
   "source": [
    "### Ethical Questions: Who Sees What — and How?\n",
    "The power to interpret images and audio also brings challenges:\n",
    "\n",
    "- Surveillance: Could AIs become tools for mass analysis of video or photos?\n",
    "\n",
    "- Misinformation: Can multimodal AIs generate deepfakes or fake image explanations?\n",
    "\n",
    "- Privacy: If you upload a photo, who has access to what the AI \"sees\"?\n",
    "\n",
    "There’s also the question of representation — does the AI understand cultural context? For example, if a model sees a Dominican Independence Day celebration, will it recognize it? Or just say “people dancing in the street”?\n",
    "\n",
    "These are communication challenges as much as they are technical ones.\n"
   ]
  },
  {
   "cell_type": "markdown",
   "id": "f72d2e8b-7ae4-45ec-a0ee-29c16b6d1908",
   "metadata": {},
   "source": [
    "## ***Conclusion: From Interfaces to Interactions***\n",
    "Multimodal LLMs are blurring the lines between input and experience. We're no longer just typing prompts — we're interacting across sensory channels. As this technology evolves, our conversations with machines will start to resemble human communication more closely — rich, contextual, and emotionally nuanced.\n",
    "\n",
    "The question now isn’t just “Can the AI talk?”\n",
    "It’s: Can it understand the world the way we do — and should it?\n",
    "\n",
    "\n"
   ]
  }
 ],
 "metadata": {
  "citation-manager": {
   "items": {}
  },
  "kernelspec": {
   "display_name": "Python 3 (ipykernel)",
   "language": "python",
   "name": "python3"
  },
  "language_info": {
   "codemirror_mode": {
    "name": "ipython",
    "version": 3
   },
   "file_extension": ".py",
   "mimetype": "text/x-python",
   "name": "python",
   "nbconvert_exporter": "python",
   "pygments_lexer": "ipython3",
   "version": "3.10.12"
  }
 },
 "nbformat": 4,
 "nbformat_minor": 5
}
