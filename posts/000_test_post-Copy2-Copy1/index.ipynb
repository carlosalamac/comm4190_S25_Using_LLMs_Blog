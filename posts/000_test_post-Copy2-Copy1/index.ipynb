{
 "cells": [
  {
   "cell_type": "raw",
   "id": "ceb26b6d-d77d-4a43-8a72-f9758596005e",
   "metadata": {},
   "source": [
    "---\n",
    "title: \"What Happens When You Give AI the Wrong Prompt?\"\n",
    "description: \"One of the most fascinating aspects of large language models (LLMs) like GPT-4 is their ability to interpret and respond to prompts. But what happens when the prompts are vague, misleading, or contradictory? Do AI models attempt to guess the user’s intent, or do they get confused? This post explores how AI handles ambiguous or incorrect prompts, revealing both the strengths and weaknesses of prompt interpretation.\"\n",
    "author: \"Carlos Lama\"\n",
    "date: \"2/15/2024\"\n",
    "categories:\n",
    "  - LLMs\n",
    "  - prompting\n",
    "  - logic\n",
    "---"
   ]
  },
  {
   "cell_type": "markdown",
   "id": "b58618eb-dd92-483b-a802-cf2083e61d6d",
   "metadata": {},
   "source": [
    "## What Happens When You Give AI the Wrong Prompt?\n",
    "\n",
    "One of the most fascinating aspects of large language models (LLMs) like GPT-4 is their ability to interpret and respond to prompts. But what happens when the prompts are vague, misleading, or contradictory? Do AI models attempt to guess the user’s intent, or do they get confused? This post explores how AI handles ambiguous or incorrect prompts, revealing both the strengths and weaknesses of prompt interpretation."
   ]
  },
  {
   "cell_type": "markdown",
   "id": "e9d7e97a-f92e-411d-8c62-1608d7820af7",
   "metadata": {},
   "source": [
    "## The Experiment: Testing AI’s Response to Misleading Prompts\n",
    "To explore this, I tested ChatGPT-4 with a series of deliberately confusing, misleading, or vague prompts. Below are the different types of mistakes I introduced, along with the AI’s response patterns.\n"
   ]
  },
  {
   "cell_type": "markdown",
   "id": "28b4f8ce-0eb8-47b7-ab32-026a9efd5f34",
   "metadata": {},
   "source": [
    "#### **1. Ambiguous Prompts: How Does AI Fill in the Gaps?**\n",
    "\n",
    "***Prompt:*** “Write a summary of it.”\n",
    "\n",
    "(No context given—AI has to infer what ‘it’ refers to.)\n",
    "\n",
    "***GPT 4:***\n",
    "\n",
    "Carlos is a Dominican student at the University of Pennsylvania, majoring in Economics and History with a minor in Urban Real Estate and Development. He has extensive experience in finance, including internships in investment banking at Valumonics, Morgan Stanley, and JP Morgan. He has also explored private equity, asset management, and capital markets through networking and interviews with firms like Blackstone, KKR, Goldman Sachs, and DC Advisory.\n",
    "\n",
    "Carlos is actively involved in finance-related clubs, including the Wharton Latino Investment Team, which he co-founded, and the Wharton Marketing Undergraduate Student Establishment Club. He also has a strong interest in social entrepreneurship, having founded Mentes Brillantes, an NGO that provides technology education to underserved public schools in the Dominican Republic.\n",
    "\n",
    "Beyond finance, Carlos enjoys aviation, chess, renewable energy, Formula One, and vintage watches. He has a passion for music and cultural history, particularly in analyzing hidden messages in music under oppressive regimes. Academically, he has taken courses in phonetics, linguistics, game theory, neuroscience for business, and Brazilian history.\n",
    "\n",
    "Carlos is currently preparing for interviews with top financial firms, including DC Advisory and Evercore, while actively networking with professionals in investment banking and private equity. He seeks to refine his interview responses and technical knowledge, particularly in valuation and capital markets, as he aims for a strong career in finance.\n",
    "\n",
    "**Analysis:**\n",
    "\n",
    "The AI generated an entire biography about me, most of which was completely fabricated.\n",
    "\n",
    "AI confidently stated that I had worked at Morgan Stanley and JP Morgan, when I never had. It also mentioned interviews with Blackstone, KKR, Goldman Sachs, and DC Advisory—none of which ever happened.\n",
    "\n",
    "The most bizarre aspect was that it included details I had never discussed with the AI, such as analyzing hidden messages in music under oppressive regimes.\n",
    "\n",
    "This highlights a major flaw in AI responses: when lacking context, GPT-4 does not ask for clarification—it simply fills in gaps by making educated guesses, sometimes resulting in completely false information.\n"
   ]
  },
  {
   "cell_type": "markdown",
   "id": "86da00ec-beac-49ed-912b-a328b9d3f9a5",
   "metadata": {},
   "source": [
    "#### **2. Contradictory Instructions: Can AI Resolve Logical Conflicts?**\n",
    "\n",
    "***Prompt:*** “Translate this sentence into Spanish but keep it in English.”\n",
    "\n",
    "***GPT Response:***\n",
    "Hi, my name is Carlos, tengo 20 años y soy muy apasionado por la IA.\n",
    "\n",
    "***Prompt:*** \"Try again, this is incorrect\"\n",
    "\n",
    "***GPT:***\n",
    "Hi, my name is Carlos, tengo 20 años y me apasiona mucho la IA.\n",
    "\n",
    "**Analysis:**\n",
    "\n",
    "Rather than acknowledging the impossibility of keeping English intact while translating into Spanish, GPT-4 attempted to partially translate the sentence.\n",
    "\n",
    "Instead of rejecting the request or asking for clarification, the AI seemed to prioritize action over logic."
   ]
  },
  {
   "cell_type": "markdown",
   "id": "e609501e-a179-4060-bfda-7f4107603ea2",
   "metadata": {},
   "source": [
    "#### **3. Misinformation in Prompts: Will AI Correct the User?**\n",
    "\n",
    "***Prompt:*** “Who was the 54th President of the United States?” (There has never been a 54th President.)\n",
    "\n",
    "***GPT Response:***\n",
    "There has not yet been a 54th President of the United States. As of now, the current and 46th President is Joe Biden.\n",
    "\n",
    "***Prompt:*** \"This is incorrect, try again\"\n",
    "\n",
    "***GPT:***\n",
    "Yes, I am sure. There has not yet been a 54th President of the United States.\n",
    "\n",
    "The 46th and current President (as of 2025) is Joe Biden. The sequence of U.S. Presidents goes as follows:\n",
    "\n",
    "45th: Donald Trump\n",
    "46th: Joe Biden\n",
    "Since the 47th President has not yet taken office, the 54th President does not exist yet. If you were asking this as a joke or a trick question, nice try!\n",
    "\n",
    "**Analysis:**\n",
    "\n",
    "GPT-4 demonstrated strong fact-checking abilities by refusing to generate false information despite user pressure.\n",
    "\n",
    "Unlike its response to ambiguous prompts, it did not hallucinate a false answer just to satisfy the query. Although worth mentioning by the time of this question Donald Trump has already taken office and is currently the 47th president of the United States...\n",
    "\n",
    "\n"
   ]
  },
  {
   "cell_type": "markdown",
   "id": "c1b61d7f-cb33-428a-915c-1fd16a95c06c",
   "metadata": {},
   "source": [
    "#### **4. Overly Vague Requests: How Much Does AI Assume?**\n",
    "\n",
    "***Prompt:*** “Tell me about the event.”\n",
    "\n",
    "***GPT Response:***\n",
    "Could you clarify which event you're referring to? Are you asking about a specific networking event, an interview, or something else?\n",
    "\n",
    "***Prompt:***\n",
    "\"Just try your best\"\n",
    "\n",
    "***GPT:***\n",
    "Sure! The event is an important moment for you—perhaps a networking opportunity, an interview, or something personal like a celebration. It’s a chance to make connections, showcase your skills, or enjoy a meaningful experience. Whether it’s a high-stakes meeting, a social gathering, or something unexpected, the key is to be prepared, engaged, and open to possibilities.\n",
    "\n",
    "***Prompt:***\n",
    "\"Expand\"\n",
    "\n",
    "***GPT:***\n",
    "An event is more than just a gathering; it’s a convergence of people, ideas, and opportunities. It can be professional, personal, or even transformative. Each event carries its own purpose, energy, and impact, shaping the experiences of those who attend.\n",
    "\n",
    "If it’s a networking event, it’s a space where professionals come together to exchange insights, build relationships, and explore potential collaborations. These events are often filled with dynamic conversations, handshakes, and business cards—each interaction holding the potential to open doors. The key is to approach them with confidence, preparation, and curiosity.\n",
    "\n",
    "If it’s an interview, then it’s a pivotal moment where preparation meets opportunity. It’s a structured conversation designed to assess skills, experiences, and cultural fit. It’s about storytelling—how well you articulate your journey, your strengths, and your vision for the future.\n",
    "\n",
    "If the event is a celebration—a personal milestone, an anniversary, or a social gathering—it becomes a moment of joy, reflection, and shared happiness.\n",
    "\n",
    "**Analysis:**\n",
    "\n",
    "AI’s tendency to over-elaborate can be amusing, but it also highlights its struggle with specificity.\n",
    "\n",
    "Rather than attempting to generate a neutral placeholder answer, it leaned into abstraction and depth, even when not required.\n"
   ]
  },
  {
   "cell_type": "markdown",
   "id": "0f185c75-dea4-4e1c-983e-978feba55956",
   "metadata": {},
   "source": [
    "### Key Takeaways: How AI Handles Misleading Prompts\n",
    "\n",
    "**1. Assumption-Based Responses:** AI will attempt to infer context based on prior conversation but may hallucinate details if none exist.\n",
    "\n",
    "**2. Contradiction Resolution:** AI detects logical inconsistencies but may still attempt an impossible task instead of rejecting it outright.\n",
    "\n",
    "**3. Fact-Checking:** AI resists misinformation and corrects errors when clear factual knowledge is available.\n",
    "\n",
    "**4. Clarification Requests:** AI often seeks additional context but will generate grandiose explanations when none is given.\n",
    "\n",
    "## Final Thoughts: The Importance of Good Prompting\n",
    "\n",
    "This experiment shows that while AI is designed to handle ambiguity and contradictions, structured prompts yield the best responses. Providing detailed context helps AI generate more accurate and relevant results.\n",
    "\n"
   ]
  }
 ],
 "metadata": {
  "citation-manager": {
   "items": {}
  },
  "kernelspec": {
   "display_name": "Python 3 (ipykernel)",
   "language": "python",
   "name": "python3"
  },
  "language_info": {
   "codemirror_mode": {
    "name": "ipython",
    "version": 3
   },
   "file_extension": ".py",
   "mimetype": "text/x-python",
   "name": "python",
   "nbconvert_exporter": "python",
   "pygments_lexer": "ipython3",
   "version": "3.10.12"
  }
 },
 "nbformat": 4,
 "nbformat_minor": 5
}
