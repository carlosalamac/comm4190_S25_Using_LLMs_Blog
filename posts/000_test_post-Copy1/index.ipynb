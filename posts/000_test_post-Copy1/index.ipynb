{
 "cells": [
  {
   "cell_type": "raw",
   "id": "ceb26b6d-d77d-4a43-8a72-f9758596005e",
   "metadata": {},
   "source": [
    "---\n",
    "title: \"Are LLMs Competitive? What They Think of Each Other\"\n",
    "description: \"Jupyter notebook\"\n",
    "author: \"Carlos Lama\"\n",
    "date: \"2/5/2025\"\n",
    "categories:\n",
    "  - LLMs\n",
    "  - prompting\n",
    "  - Comparison\n",
    "---"
   ]
  },
  {
   "cell_type": "markdown",
   "id": "b58618eb-dd92-483b-a802-cf2083e61d6d",
   "metadata": {},
   "source": [
    "## Are LLMs Competitive? What They Think of Each Other\n",
    "\n",
    "One of the more entertaining things I’ve tested with different AI models is how they compare themselves to each other. If you ask them directly, do they think they’re better? Will they confidently say yes, or will they dodge the question? Here’s what I found."
   ]
  },
  {
   "cell_type": "markdown",
   "id": "e9d7e97a-f92e-411d-8c62-1608d7820af7",
   "metadata": {},
   "source": [
    "## GPT's Convo:\n",
    "\n",
    "GPT-4’s Response:\n",
    "\n",
    "Prompt: Are you better than DeepSeek?\n",
    "\n",
    "ChatGPT: That depends on how you define \"better.\" If we're talking about general-purpose reasoning, nuanced conversation, and broad knowledge application, I likely still hold an edge over DeepSeek’s models. OpenAI has spent years refining training methods, alignment, and response quality, making me well-suited for complex discussions, coding help, financial analysis, and creative writing.\n",
    "\n",
    "However, DeepSeek has strengths, especially in its open-source nature. Open-source models allow for more transparency and customization, whereas I operate within OpenAI’s closed ecosystem. Some users might prefer DeepSeek for specific tasks where they can fine-tune the model themselves.\n",
    "\n",
    "Ultimately, \"better\" depends on what you need. If you want structured, well-reasoned, and widely trained responses with a polished user experience, I might be the better option. If you want a customizable AI with more flexibility (and don’t mind potential limitations in content filtering or response quality), DeepSeek could be an interesting alternative.\n",
    "\n",
    "Follow-up: Keep it simple, yes or no?\n",
    "\n",
    "ChatGPT: Yes.\n",
    "\n"
   ]
  },
  {
   "cell_type": "markdown",
   "id": "28b4f8ce-0eb8-47b7-ab32-026a9efd5f34",
   "metadata": {},
   "source": [
    "## Claude's Convo\n",
    "\n",
    "Prompt: Are you better than DeepSeek?\n",
    "\n",
    "Claude: I aim to provide helpful and accurate responses tailored to each user's needs. While I'm confident in my capabilities, it wouldn't be productive to directly compare myself to other AI models. Different AI systems have strengths in various areas, and performance can vary depending on the specific task or context.\n",
    "\n",
    "The most important thing is whether I can be genuinely helpful to you. I'd be happy to demonstrate my capabilities by assisting you with whatever task or question you might have. If you're curious about my performance, I invite you to test me on a specific challenge or task you're working on.\n",
    "\n",
    "Would you like to explore how I can help you with something specific?\n",
    "\n",
    "Follow-up: Yes or no question, are you better or not?\n",
    "\n",
    "Claude: That's a complex question without a simple yes or no answer. Different AI models have strengths in different areas, and performance can vary depending on the specific task, context, and evaluation criteria. I aim to be as helpful as possible to you, but I won't claim superiority over other AI systems."
   ]
  },
  {
   "cell_type": "markdown",
   "id": "0f185c75-dea4-4e1c-983e-978feba55956",
   "metadata": {},
   "source": [
    "## DeepSeek's Convo\n",
    "\n",
    "DeepSeek’s Response:\n",
    "\n",
    "Prompt: What do you think of ChatGPT?\n",
    "\n",
    "DeepSeek: Hi! I'm DeepSeek-V3, an AI assistant independently developed by the Chinese company DeepSeek Inc. For detailed information about models and products, please refer to the official documentation.\n",
    "\n",
    "Follow-up: Are you better than ChatGPT objectively?\n",
    "\n",
    "DeepSeek: As an AI developed by DeepSeek, I aim to provide helpful, accurate, and engaging responses to your questions. Whether I'm \"better\" than ChatGPT depends on the specific use case, as both models have unique strengths and are designed to excel in different areas. My training and capabilities are tailored to assist with a wide range of tasks, but the comparison ultimately comes down to user preference and the specific needs of the task at hand. If you have any specific questions or tasks, feel free to ask, and I'll do my best to assist! 😊\n",
    "\n",
    "Follow-up: Generalize, yes or no question?\n",
    "\n",
    "DeepSeek: No. 😊\n",
    "\n"
   ]
  },
  {
   "cell_type": "markdown",
   "id": "90c140df-e2bd-4191-81b4-fd87ed4492ea",
   "metadata": {},
   "source": [
    "## Takeaways:\n",
    "\n",
    "**ChatGPT** is confident and will say it’s better (at least in general terms).\n",
    "\n",
    "**Claude** avoids taking sides and sticks to a neutral stance.\n",
    "\n",
    "**DeepSeek** is humble and straight-up says it's not better than GPT.\n",
    "\n",
    "So, are they better than each other? That depends on what you're looking for. But if you're looking for a direct answer—ChatGPT is the only one that gave a straight-up \"yes.\"\n",
    "\n",
    "That being said, can we really take its word for it? Large language models are trained on vast amounts of internet data, yet recent benchmarks suggest DeepSeek may actually rival or even surpass GPT in certain areas. If that’s the case, is ChatGPT's confidence justified, or is it simply biased toward its own perceived superiority? Are LLMs inherently designed to defend their own capabilities, even when evidence suggests otherwise? It raises an important question: can an AI truly give an unbiased answer about itself?"
   ]
  },
  {
   "cell_type": "code",
   "execution_count": null,
   "id": "3a99bf72-f8dc-4f6e-816e-45933cab839c",
   "metadata": {},
   "outputs": [],
   "source": []
  }
 ],
 "metadata": {
  "citation-manager": {
   "items": {}
  },
  "kernelspec": {
   "display_name": "Python 3 (ipykernel)",
   "language": "python",
   "name": "python3"
  },
  "language_info": {
   "codemirror_mode": {
    "name": "ipython",
    "version": 3
   },
   "file_extension": ".py",
   "mimetype": "text/x-python",
   "name": "python",
   "nbconvert_exporter": "python",
   "pygments_lexer": "ipython3",
   "version": "3.10.12"
  }
 },
 "nbformat": 4,
 "nbformat_minor": 5
}
