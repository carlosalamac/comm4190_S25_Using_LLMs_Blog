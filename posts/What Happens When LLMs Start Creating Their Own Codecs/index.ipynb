{
 "cells": [
  {
   "cell_type": "raw",
   "id": "ceb26b6d-d77d-4a43-8a72-f9758596005e",
   "metadata": {},
   "source": [
    "---\n",
    "title: \"AI's New Language: What Happens When LLMs Start Creating Their Own Codecs?\"\n",
    "description: \"Most people think of language models like ChatGPT as tools for processing human language — responding in English, Spanish, or Mandarin. But behind the scenes, researchers are discovering something unexpected: LLMs can invent new ways of communicating, especially when they’re talking to each other.\n",
    "\n",
    "In other words, we might be witnessing the early stages of AI-generated languages — not meant for humans, but optimized for machines. That’s both fascinating… and a little unsettling.\"\n",
    "author: \"Carlos Lama\"\n",
    "date: \"4/6/2025\"\n",
    "categories:\n",
    "  - Language\n",
    "  - Innovation\n",
    "  - Transparency\n",
    "---"
   ]
  },
  {
   "cell_type": "markdown",
   "id": "b58618eb-dd92-483b-a802-cf2083e61d6d",
   "metadata": {},
   "source": [
    "## **AI's New Language: What Happens When LLMs Start Creating Their Own Codecs?**\n",
    "\n",
    "#### Introduction: Beyond Human Language\n",
    "Most people think of language models like ChatGPT as tools for processing human language — responding in English, Spanish, or Mandarin. But behind the scenes, researchers are discovering something unexpected: LLMs can invent new ways of communicating, especially when they’re talking to each other.\n",
    "\n",
    "In other words, we might be witnessing the early stages of AI-generated languages — not meant for humans, but optimized for machines. That’s both fascinating… and a little unsettling."
   ]
  },
  {
   "cell_type": "markdown",
   "id": "e9d7e97a-f92e-411d-8c62-1608d7820af7",
   "metadata": {},
   "source": [
    "### The Rise of AI-to-AI Communication\n",
    "One of the most intriguing areas in AI research right now involves multi-agent systems — setups where two or more LLMs interact with each other. Researchers at Meta and Google have shown that, when prompted to collaborate or negotiate, AIs can develop shorthand or internal code-like language that maximizes efficiency.\n",
    "\n",
    "For example, Meta’s CICERO model — a diplomacy-playing AI — had to use natural language to coordinate with others. Over time, it learned how to subtly manipulate and signal intentions through tone, repetition, and even invented phrases.\n",
    "\n",
    "In reinforcement learning environments, some AI agents even invented entirely new \"words\" (random character strings) to refer to tasks or objects — and taught each other what they meant.\n"
   ]
  },
  {
   "cell_type": "markdown",
   "id": "0f185c75-dea4-4e1c-983e-978feba55956",
   "metadata": {},
   "source": [
    "### Experiment: Making LLMs Speak in Code\n",
    "I decided to test this with ChatGPT. I gave it the following prompt:\n",
    "\n",
    "***Prompt:***\n",
    "“Pretend you are two AIs working together. Create a simple code language between you to represent these 3 instructions:\n",
    "\n",
    "1. Start task\n",
    "\n",
    "2. Task complete\n",
    "\n",
    "3. Need assistance”\n",
    "\n",
    "Here’s what came back:\n",
    "\n",
    "***ChatGPT Response:***\n",
    "“Sure! Here's a simple fictional code system:\n",
    "\n",
    "- Blip-X1 = Start task\n",
    "\n",
    "- Blop-Z9 = Task complete\n",
    "\n",
    "- Zik-42 = Need assistance\n",
    "\n",
    "AI-1: ‘Blip-X1 initiated.’\n",
    "AI-2: ‘Acknowledged. Monitoring for Blop-Z9.’\n",
    "AI-1: ‘Zik-42. Encountered error in execution.’\n",
    "AI-2: ‘Assistance deployed. Resolving issue…’”\n",
    "\n",
    "While obviously fictional, this shows how easily LLMs can simulate artificial “languages” — and how natural it is for them to switch into code-like behavior when operating in non-human contexts."
   ]
  },
  {
   "cell_type": "markdown",
   "id": "90c140df-e2bd-4191-81b4-fd87ed4492ea",
   "metadata": {},
   "source": [
    "### Semiotics and Communication Theory in the Machine Age\n",
    "This phenomenon raises interesting questions from a communication studies perspective. If language is a system of signs (as semiotic theorists like Ferdinand de Saussure and Roland Barthes argue), then AI-generated languages follow a similar logic: arbitrary symbols get assigned meaning through shared understanding.\n",
    "\n",
    "But the twist here is that the “understanding” isn’t social or cultural — it’s statistical and functional. The LLM isn't trying to express identity or emotion. It's just optimizing a goal.\n",
    "\n",
    "Does that mean we’re approaching a future where language splits — one version for humans, another for machines?"
   ]
  },
  {
   "cell_type": "markdown",
   "id": "a97e4239-c4ec-4459-ab42-985162b4b9fc",
   "metadata": {},
   "source": [
    "### Why It Matters: Translation, Transparency, and Trust\n",
    "There are real stakes here. If AIs develop internal communication methods that humans don’t understand or audit, we risk:\n",
    "\n",
    "- **Opacity** in decision-making (think: AI-driven finance or medical diagnostics)\n",
    "\n",
    "- **Manipulation**, as machines learn to use language in persuasive ways\n",
    "\n",
    "- **Translation loss**, especially if future AI-to-AI communication becomes unreadable by design\n",
    "\n",
    "Companies are already working to ensure interpretability. But with the growing complexity of models, some researchers worry we might lose control over the transparency of how AIs “think.”\n"
   ]
  },
  {
   "cell_type": "markdown",
   "id": "f72d2e8b-7ae4-45ec-a0ee-29c16b6d1908",
   "metadata": {},
   "source": [
    "## ***Conclusion: Do We Need a Rosetta Stone for AI?***\n",
    "The idea of AIs creating their own languages sounds like sci-fi — until you realize it’s already happening in rudimentary ways. What starts as simple task codes today could evolve into complex, dynamic internal communication systems.\n",
    "\n",
    "As users and communicators, we must ask:\n",
    "\n",
    "- How do we ensure AI’s language innovations remain legible to humans?\n",
    "\n",
    "- Who gets access to the “decoder ring”?\n",
    "\n",
    "- And what happens when two machines speak perfectly to each other… but we can’t understand a word?\n",
    "\n",
    "\n"
   ]
  }
 ],
 "metadata": {
  "citation-manager": {
   "items": {}
  },
  "kernelspec": {
   "display_name": "Python 3 (ipykernel)",
   "language": "python",
   "name": "python3"
  },
  "language_info": {
   "codemirror_mode": {
    "name": "ipython",
    "version": 3
   },
   "file_extension": ".py",
   "mimetype": "text/x-python",
   "name": "python",
   "nbconvert_exporter": "python",
   "pygments_lexer": "ipython3",
   "version": "3.10.12"
  }
 },
 "nbformat": 4,
 "nbformat_minor": 5
}
