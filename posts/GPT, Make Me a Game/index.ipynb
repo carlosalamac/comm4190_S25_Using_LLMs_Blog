{
 "cells": [
  {
   "cell_type": "raw",
   "id": "ceb26b6d-d77d-4a43-8a72-f9758596005e",
   "metadata": {},
   "source": [
    "---\n",
    "title: \"GPT, Make Me a Game: Can an LLM Be My Coding Buddy?\"\n",
    "description: I’ve used ChatGPT for plenty of things — summarizing readings, writing emails, generating ideas — but I’ve never tried to build something with it. So for this post, I decided to test GPT’s programming chops by asking it to help me build a playable game from scratch (P.S. I have 0 experience coding whatsoever).\n",
    "\n",
    "author: \"Carlos Lama\"\n",
    "date: \"4/20/2025\"\n",
    "categories:\n",
    "  - Coding\n",
    "  - Creativity\n",
    "  - GPT-4\n",
    "---"
   ]
  },
  {
   "cell_type": "markdown",
   "id": "b58618eb-dd92-483b-a802-cf2083e61d6d",
   "metadata": {},
   "source": [
    "## **GPT, Make Me a Game: Can an LLM Be My Coding Buddy?**\n",
    "\n",
    "<img src=\"ss1.png\" width=\"50%\"/>\n",
    "\n",
    "#### Introduction\n",
    "I’ve used ChatGPT for plenty of things — summarizing readings, writing emails, generating ideas — but I’ve never tried to build something with it. So for this post, I decided to test GPT’s programming chops by asking it to help me build a playable game from scratch (P.S. I have 0 experience coding whatsoever).\n",
    "\n",
    "No prior templates, no external tools. Just me, GPT-4, and a vague idea:\n",
    "\"Let’s make a text-based adventure game that runs in the terminal.\"\n"
   ]
  },
  {
   "cell_type": "markdown",
   "id": "e9d7e97a-f92e-411d-8c62-1608d7820af7",
   "metadata": {},
   "source": [
    "### Step 1: The Prompt\n",
    "I started with something simple:\n",
    "\n",
    "***Me:***\n",
    "- “Hi! I want to build a simple terminal-based game in Python. Can you help me create a short text-based adventure game with a few choices and outcomes?”\n",
    "\n",
    "GPT immediately replied with enthusiasm (as always), and provided a full code block:"
   ]
  },
  {
   "cell_type": "code",
   "execution_count": null,
   "id": "082cd516-e832-474d-82e2-ed6c4d882c43",
   "metadata": {},
   "outputs": [
    {
     "name": "stdout",
     "output_type": "stream",
     "text": [
      "You wake up in a mysterious forest...\n",
      "Do you:\n",
      "1. Explore the cave\n",
      "2. Follow the river\n"
     ]
    }
   ],
   "source": [
    "def start_game():\n",
    "    print(\"You wake up in a mysterious forest...\")\n",
    "    print(\"Do you:\")\n",
    "    print(\"1. Explore the cave\")\n",
    "    print(\"2. Follow the river\")\n",
    "\n",
    "    choice = input(\"> \")\n",
    "\n",
    "    if choice == \"1\":\n",
    "        print(\"You enter the cave and find a treasure chest!\")\n",
    "    elif choice == \"2\":\n",
    "        print(\"You follow the river and fall into a trap.\")\n",
    "    else:\n",
    "        print(\"You stand still, unsure what to do. Eventually, night falls...\")\n",
    "\n",
    "start_game()"
   ]
  },
  {
   "cell_type": "markdown",
   "id": "0f185c75-dea4-4e1c-983e-978feba55956",
   "metadata": {},
   "source": [
    "It wasn’t groundbreaking, but hey — it ran! A few lines of code, some branching logic, and a spooky forest setup. We had a game. 🎉"
   ]
  },
  {
   "cell_type": "markdown",
   "id": "90c140df-e2bd-4191-81b4-fd87ed4492ea",
   "metadata": {},
   "source": [
    "### Step 2: Iterating With GPT\n",
    "Feeling ambitious, I asked GPT to expand it:\n",
    "\n",
    "***Me:***\n",
    "- “Add more branches and a health system. Make the game slightly longer, with at least 3 scenes.”\n",
    "\n",
    "GPT gave me a longer version with multiple decisions, some added challenge (like “lose 10 health”), and even a basic loop to track the player’s health.\n",
    "\n",
    "But then… errors.\n",
    "\n",
    "I tried running the code and hit this:"
   ]
  },
  {
   "cell_type": "code",
   "execution_count": null,
   "id": "5c4fad8d-da99-47e8-8993-03733dc2484b",
   "metadata": {},
   "outputs": [],
   "source": [
    "UnboundLocalError: local variable 'health' referenced before assignment\n"
   ]
  },
  {
   "cell_type": "markdown",
   "id": "a97e4239-c4ec-4459-ab42-985162b4b9fc",
   "metadata": {},
   "source": [
    "Classic Python scoping issue. I sent the error back to GPT:\n",
    "\n",
    "***Me:***\n",
    "- “This error shows up — can you fix it?”\n",
    "\n",
    "***GPT:***\n",
    "- “Ah, yes! The issue is that ‘health’ is being modified inside a function but not declared as global. Let me fix that.”\n",
    "\n",
    "And it did. Well… mostly. Some fixes worked. Others introduced new issues. For example, when I asked GPT to “add inventory tracking,” it hallucinated items and functions that didn’t exist:\n"
   ]
  },
  {
   "cell_type": "code",
   "execution_count": null,
   "id": "dd6b69ca-b1ce-42fa-bb29-4b60921fbbe3",
   "metadata": {},
   "outputs": [],
   "source": [
    "inventory.append(\"torch\")\n",
    "if has_item(\"key\"):\n",
    "    # ..."
   ]
  },
  {
   "cell_type": "markdown",
   "id": "f72d2e8b-7ae4-45ec-a0ee-29c16b6d1908",
   "metadata": {},
   "source": [
    "Except has_item() was never defined. Nor was inventory initialized. This happened a lot."
   ]
  },
  {
   "cell_type": "markdown",
   "id": "c6facc94-03cf-41e3-91c7-1ad925cd3ec7",
   "metadata": {},
   "source": [
    "### Step 3: The Final Game\n",
    "After several prompt cycles, I ended up with a fully playable (and mildly absurd) mini-adventure. You wake up in a haunted house, collect a sword, get attacked by a ghost, and either escape or perish based on your choices and inventory.\n",
    "\n",
    "It looked something like this:"
   ]
  },
  {
   "cell_type": "code",
   "execution_count": null,
   "id": "f785ce82-4e55-43f5-b7b8-4a2502cfc549",
   "metadata": {},
   "outputs": [],
   "source": [
    "You wake up in a dark room. A ghost approaches.\n",
    "\n",
    "Do you:\n",
    "1. Fight the ghost\n",
    "2. Run out the door\n",
    "> 1\n",
    "\n",
    "You swing your sword. The ghost vanishes!\n",
    "You survive and find a secret exit. You win!\n"
   ]
  },
  {
   "cell_type": "markdown",
   "id": "f7ec4c8b-6850-4cad-bf0d-4dfad5122a63",
   "metadata": {},
   "source": [
    "Honestly? It was kind of fun."
   ]
  },
  {
   "cell_type": "markdown",
   "id": "0e5bbbd0-1ed8-4c14-b2b2-024efe29c468",
   "metadata": {},
   "source": [
    "### What GPT Got Right\n",
    "- Great structure suggestions: It laid out game logic well and kept things readable.\n",
    "\n",
    "- Explained code clearly: When I asked questions, it responded with simple explanations.\n",
    "\n",
    "- Quick iterations: It was like having a super fast (but slightly forgetful) coding buddy.\n",
    "\n",
    "### What GPT Got Wrong\n",
    "- Syntax bugs: It occasionally introduced variables it never defined.\n",
    "\n",
    "- Overpromising: It hallucinated functions like has_item() or “magic door” mechanics that didn’t work.\n",
    "\n",
    "- Context drift: Over time, it forgot earlier mechanics (like health points) unless I reminded it.\n",
    "\n",
    "### 💭 Final Thoughts\n",
    "GPT didn’t build me Elden Ring, but it did walk me through the logic of simple game design. It acted more like a coach than a coder — offering suggestions, explanations, and bugs in equal measure.\n",
    "\n",
    "The coolest part? I learned a ton in the process. Debugging GPT’s hallucinations actually made me a more careful reader of my own code.\n",
    "\n",
    "### 🔗 Reflection\n",
    "This mini-project reminded me how LLMs can both assist and mislead. They don’t “understand” the game — they predict what a helpful-sounding game should look like. And yet, with good prompting and iteration, they can absolutely jumpstart a creative idea.\n",
    "\n",
    "Would I use GPT again for a coding side quest? Definitely.\n",
    "Would I ship anything it gave me directly to production? …Absolutely not. 😅"
   ]
  }
 ],
 "metadata": {
  "citation-manager": {
   "items": {}
  },
  "kernelspec": {
   "display_name": "Python 3 (ipykernel)",
   "language": "python",
   "name": "python3"
  },
  "language_info": {
   "codemirror_mode": {
    "name": "ipython",
    "version": 3
   },
   "file_extension": ".py",
   "mimetype": "text/x-python",
   "name": "python",
   "nbconvert_exporter": "python",
   "pygments_lexer": "ipython3",
   "version": "3.10.12"
  }
 },
 "nbformat": 4,
 "nbformat_minor": 5
}
