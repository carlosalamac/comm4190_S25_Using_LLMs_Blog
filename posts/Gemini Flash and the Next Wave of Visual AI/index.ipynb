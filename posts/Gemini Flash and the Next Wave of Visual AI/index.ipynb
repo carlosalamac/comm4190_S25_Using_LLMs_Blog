{
 "cells": [
  {
   "cell_type": "raw",
   "id": "ceb26b6d-d77d-4a43-8a72-f9758596005e",
   "metadata": {},
   "source": [
    "---\n",
    "title: \"Why AI Struggles with Text in Generated Images: A Look into GPT-4’s Limitations\"\n",
    "description: \"AI-generated images have made significant progress in realism and artistic detail, but one persistent issue remains: generating accurate text on images. Whether it’s a T-shirt design, a street sign, or a digital billboard, AI models often fail to render text correctly. In this blog post, I explore why large language models (LLMs) like GPT-4 (DALL·E) struggle with text in images, using my own experiments and interactions as examples.\"\n",
    "author: \"Carlos Lama\"\n",
    "date: \"2/17/2025\"\n",
    "categories:\n",
    "  - LLMs\n",
    "  - prompting\n",
    "  - logic\n",
    "---"
   ]
  },
  {
   "cell_type": "markdown",
   "id": "b58618eb-dd92-483b-a802-cf2083e61d6d",
   "metadata": {},
   "source": [
    "# **AI Image Editing Just Leveled Up: Gemini Flash and the Next Wave of Visual AI**\n",
    "For the longest time, one small but frustrating detail in my professional headshot has been bothering me: **my tie.**\n",
    "\n",
    "Like most people in finance, I rely on my headshot for job applications, LinkedIn networking, and professional branding—and yet, every time I looked at my photo, I wished I could just make one tiny adjustment: tighten my tie so it looked sharper and more polished.\n",
    "\n",
    "I’ve tried multiple AI image editors before, from DALL·E to MidJourney, and none of them could make this kind of precise, localized edit while keeping everything else exactly the same—until now."
   ]
  },
  {
   "cell_type": "markdown",
   "id": "e9d7e97a-f92e-411d-8c62-1608d7820af7",
   "metadata": {},
   "source": [
    "## Enter Gemini Flash: The AI That Gets It Right\n",
    "\n",
    "Google’s Gemini Flash has taken AI image generation to the next level, solving problems that other AI models struggle with. Unlike DALL·E, Stable Diffusion, and MidJourney, which often introduce random artifacts or alter unintended details, Gemini Flash preserves the integrity of the original image while making hyper-accurate edits.\n",
    "\n",
    "Here’s how it worked for my headshot:"
   ]
  },
  {
   "cell_type": "markdown",
   "id": "28b4f8ce-0eb8-47b7-ab32-026a9efd5f34",
   "metadata": {},
   "source": [
    "**Original Headshot (annoying)...**\n",
    "\n",
    "\n",
    "<img src=\"original.jpg\" width=\"50%\"/>\n",
    "\n"
   ]
  },
  {
   "cell_type": "markdown",
   "id": "86da00ec-beac-49ed-912b-a328b9d3f9a5",
   "metadata": {},
   "source": [
    "**Gemini Headshot...**\n",
    "\n",
    "\n",
    "<img src=\"new.jpeg\" width=\"50%\"/>\n"
   ]
  },
  {
   "cell_type": "markdown",
   "id": "0f185c75-dea4-4e1c-983e-978feba55956",
   "metadata": {},
   "source": [
    "## The Key Breakthrough?\n",
    "Most AI models struggle to edit images in a way that looks natural and seamless. Previous attempts I made with DALL·E’s inpainting feature and other AI-powered tools often resulted in:\n",
    "\n",
    "❌ **Weird distortions in my face or suit**\n",
    "\n",
    "❌ **Lighting inconsistencies that made the edit obvious**\n",
    "\n",
    "❌ **Completely redrawn elements that looked AI-generated rather than a real-world adjustment**\n",
    "\n",
    "With Gemini Flash, the tie adjustment looks flawless—same lighting, same sharpness, same texture."
   ]
  },
  {
   "cell_type": "markdown",
   "id": "90c140df-e2bd-4191-81b4-fd87ed4492ea",
   "metadata": {},
   "source": [
    "## **Why This Matters for AI-Generated Images**\n",
    "This isn’t just about fixing a tie. Gemini Flash is redefining AI’s ability to edit images while maintaining photorealism.\n",
    "\n",
    "Here are three major reasons why this is a game-changer:\n",
    "\n",
    "### 1. True AI Editing Instead of Re-Creation\n",
    "Most LLM-based image generators tend to redraw images from scratch instead of making subtle, controlled changes. This is a major flaw when trying to refine a real photo rather than generate something completely new.\n",
    "\n",
    "Gemini Flash is showing that AI can be used for professional-grade photo adjustments—meaning AI is closer than ever to replacing Photoshop for everyday edits.\n",
    "\n",
    "### 2. Text-to-Image Generation Is Scaling at an Insane Pace\n",
    "I’ve written previous blog posts on AI text-to-image generation, and it’s shocking how fast AI models like Gemini are improving. In just a few months, we’ve gone from:\n",
    "\n",
    "🔹 **Basic inpainting** (DALL·E struggled with keeping elements consistent)\n",
    "\n",
    "🔹 **More controlled edits** (MidJourney introduced small tweaks but lacked precision)\n",
    "\n",
    "🔹 **Fully realistic photo modifications** (Gemini Flash does it cleanly)\n",
    "\n",
    "If this trend continues, we’re likely heading toward real-time, on-the-fly AI image manipulation, where you can adjust facial expressions, clothing details, and even backgrounds without compromising realism.\n",
    "\n",
    "### 3. AI Image Editing Is Becoming More Accessible\n",
    "Let’s be real—most people don’t know how to use Photoshop, and even if they do, it’s time-consuming. AI tools like Gemini Flash are making high-quality photo editing available to anyone, regardless of skill level.\n",
    "\n",
    "This means:\n",
    "\n",
    "✅ **Fixing old photos** with minor tweaks (without warping the whole image)\n",
    "\n",
    "✅ **Adjusting professional images** without paying an editor\n",
    "\n",
    "✅ **On-demand creative edits** (e.g., altering outfits, expressions, or even entire settings)"
   ]
  },
  {
   "cell_type": "markdown",
   "id": "a97e4239-c4ec-4459-ab42-985162b4b9fc",
   "metadata": {},
   "source": [
    "## **Final Thoughts: The Future of AI Image Editing**\n",
    "With every new breakthrough in AI image generation, the bar for realism and control keeps rising. Gemini Flash proves that AI doesn’t have to completely remake an image to enhance it—it can work surgically, preserving details with accuracy.\n",
    "\n",
    "***So what’s next?***\n",
    "\n",
    "🔹 **Full-body retouching on demand** (without destroying original details)\n",
    "\n",
    "🔹 **AI-powered photo restoration** (fixing old, low-quality images while keeping authenticity)\n",
    "\n",
    "🔹 **Instant professional headshot refinements** (fixing posture, lighting, minor clothing adjustments)\n",
    "\n",
    "The speed of AI evolution in this space is insane, and I’ll keep documenting new breakthroughs as they happen.\n",
    "\n",
    "For now, I’m just glad I finally have a professional headshot where my tie isn’t bothering me.\n",
    "\n",
    "### ***What Do You Think?***\n",
    "\n",
    "Would you trust AI-generated image edits for professional use? Have you had similar frustrations with AI editing tools?\n",
    "\n"
   ]
  }
 ],
 "metadata": {
  "citation-manager": {
   "items": {}
  },
  "kernelspec": {
   "display_name": "Python 3 (ipykernel)",
   "language": "python",
   "name": "python3"
  },
  "language_info": {
   "codemirror_mode": {
    "name": "ipython",
    "version": 3
   },
   "file_extension": ".py",
   "mimetype": "text/x-python",
   "name": "python",
   "nbconvert_exporter": "python",
   "pygments_lexer": "ipython3",
   "version": "3.10.12"
  }
 },
 "nbformat": 4,
 "nbformat_minor": 5
}
