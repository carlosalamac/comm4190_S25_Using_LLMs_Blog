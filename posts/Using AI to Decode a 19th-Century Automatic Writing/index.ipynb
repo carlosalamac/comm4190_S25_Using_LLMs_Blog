{
 "cells": [
  {
   "cell_type": "raw",
   "id": "ceb26b6d-d77d-4a43-8a72-f9758596005e",
   "metadata": {},
   "source": [
    "---\n",
    "title: \"Confessions of a Biased Machine: Probing the Limits of ‘Fair’ AI\"\n",
    "description: \"The intersection of artificial intelligence and historical cryptography is an emerging field with exciting possibilities. In our last class, we put GPT-4 to the test by attempting to decode a mysterious 19th-century piece of automatic writing—a form of writing believed to be guided by unconscious thought or spiritual forces. This document, discovered in Philadelphia, consists of symbols that appear to follow a structured linguistic pattern, raising the question: Can AI help us decipher it?\"\n",
    "author: \"Carlos Lama\"\n",
    "date: \"2/23/2025\"\n",
    "categories:\n",
    "  - LLMs\n",
    "  - prompting\n",
    "  - automatic writing\n",
    "---"
   ]
  },
  {
   "cell_type": "markdown",
   "id": "b58618eb-dd92-483b-a802-cf2083e61d6d",
   "metadata": {},
   "source": [
    "## Using AI to Decode a 19th-Century Automatic Writing: A Case Study\n",
    "\n",
    "The intersection of artificial intelligence and historical cryptography is an emerging field with exciting possibilities. In our last class, we put GPT-4 to the test by attempting to decode a mysterious 19th-century piece of automatic writing—a form of writing believed to be guided by unconscious thought or spiritual forces. This document, discovered in Philadelphia, consists of symbols that appear to follow a structured linguistic pattern, raising the question: **Can AI help us decipher it?**\n",
    "\n",
    "This post walks through our experiment, including our conversation with GPT, its analysis, and what we learned from the process.\n",
    "\n"
   ]
  },
  {
   "cell_type": "markdown",
   "id": "e9d7e97a-f92e-411d-8c62-1608d7820af7",
   "metadata": {},
   "source": [
    "### Why This Experience Matters\n",
    "\n",
    "Automatic writing has long been a subject of intrigue—some believe it to be a form of spiritual communication, while others see it as an unconscious creative process. The document we analyzed seemed to follow a structured pattern, suggesting it contained a meaningful message.\n",
    "\n",
    "Our goal was to test AI’s ability to:\n",
    "\n",
    "1. Recognize patterns and linguistic structures.\n",
    "2. Identify repetitive symbols that could indicate common words.\n",
    "3. Suggest possible translations or thematic meanings.\n",
    "4. Determine if the text aligned with any known shorthand or coded language."
   ]
  },
  {
   "cell_type": "markdown",
   "id": "28b4f8ce-0eb8-47b7-ab32-026a9efd5f34",
   "metadata": {},
   "source": [
    "<img src=\"SS1.png\" width=\"50%\"/>\n",
    "\n"
   ]
  },
  {
   "cell_type": "markdown",
   "id": "0f185c75-dea4-4e1c-983e-978feba55956",
   "metadata": {},
   "source": [
    "### Step 1: Identifying Structure in the Symbols\n",
    "AI’s first response confirmed that the text had a structured shorthand-like appearance, resembling Gregg or Pitman shorthand, but potentially something more obscure. This was an important discovery because it meant the symbols weren’t purely random—there was logic to how they were used.\n",
    "\n",
    "Observing the document, GPT identified:\n",
    "\n",
    "- Repetitive symbols, which often indicate common words.\n",
    "- A consistent left-to-right flow, suggesting it was meant to be read sequentially.\n",
    "- Curved and angular strokes, similar to established shorthand systems but possibly a unique variation."
   ]
  },
  {
   "cell_type": "markdown",
   "id": "86da00ec-beac-49ed-912b-a328b9d3f9a5",
   "metadata": {},
   "source": [
    "<img src=\"SS2.png\" width=\"50%\"/>\n"
   ]
  },
  {
   "cell_type": "markdown",
   "id": "2119ad5f-27e8-46ab-8a4a-b94da4b4edc7",
   "metadata": {},
   "source": [
    "<img src=\"SS3.png\" width=\"50%\"/>\n"
   ]
  },
  {
   "cell_type": "markdown",
   "id": "e609501e-a179-4060-bfda-7f4107603ea2",
   "metadata": {},
   "source": [
    "So after playing around with prompting, and feeding it more and more information to see if it could put together a proper interpretation, these were my results..."
   ]
  },
  {
   "cell_type": "markdown",
   "id": "c1b61d7f-cb33-428a-915c-1fd16a95c06c",
   "metadata": {},
   "source": [
    "<img src=\"SS4.png\" width=\"50%\"/>\n"
   ]
  },
  {
   "cell_type": "markdown",
   "id": "22550294-d19a-4a31-b60a-5513445b3c27",
   "metadata": {},
   "source": [
    "<img src=\"SS7.png\" width=\"50%\"/>\n"
   ]
  },
  {
   "cell_type": "markdown",
   "id": "5133994f-dff3-41f4-ab5e-212e85a5f74d",
   "metadata": {},
   "source": [
    "<img src=\"SS10.png\" width=\"50%\"/>\n"
   ]
  },
  {
   "cell_type": "markdown",
   "id": "ba91a54a-afe4-4c2a-870a-9a48a1d80fe6",
   "metadata": {},
   "source": [
    "<img src=\"SS11.png\" width=\"50%\"/>\n"
   ]
  },
  {
   "cell_type": "markdown",
   "id": "5616037b-223b-4de4-a711-a05f15d1c45a",
   "metadata": {},
   "source": [
    "<img src=\"SS12.png\" width=\"50%\"/>\n"
   ]
  },
  {
   "cell_type": "markdown",
   "id": "90c140df-e2bd-4191-81b4-fd87ed4492ea",
   "metadata": {},
   "source": [
    "### Step 2: Recognizing Common Words and Patterns\n",
    "To get closer to meaning, GPT analyzed symbol frequency, identifying words that appeared most often. High-frequency words in most languages include articles, prepositions, and pronouns, so we focused on those.\n",
    "\n",
    "GPT’s findings suggested that symbols likely corresponded to words such as:\n",
    "\n",
    "- \"it\" (recurring 26 times) – Likely referring to an event, idea, or entity.\n",
    "- \"and\" (12 times) – Indicating a continuous thought or sequence.\n",
    "- \"for\" (11 times) – Suggesting purpose or reasoning.\n",
    "- \"we\" (9 times) – Indicating a plural perspective, possibly multiple speakers.\n",
    "- \"you\" (6 times) – A direct address to the recipient.\n",
    "\n",
    "This reinforced the theory that the text followed structured grammar, making it more likely to be a message, a dictated narrative, or even an instruction. The consistent repetition of words hinted at a potential prophetic or spiritual theme."
   ]
  },
  {
   "cell_type": "markdown",
   "id": "a97e4239-c4ec-4459-ab42-985162b4b9fc",
   "metadata": {},
   "source": [
    "### Step 3: Attempting to Reconstruct the Message\n",
    "Once patterns were established, GPT attempted a structural reconstruction, piecing together possible meanings based on word placement and frequency.\n",
    "\n",
    "The emerging phrases suggested:\n"
   ]
  },
  {
   "cell_type": "markdown",
   "id": "a0679633-55e1-4257-9d41-6d798e010860",
   "metadata": {},
   "source": [
    "<img src=\"SS14.png\" width=\"50%\"/>\n"
   ]
  },
  {
   "cell_type": "markdown",
   "id": "0d57c719-65d5-4e90-a033-7f9b52f2f0ac",
   "metadata": {},
   "source": [
    "These reconstructions suggest a spiritualist or visionary nature, possibly aligning with the 19th-century interest in séances, spiritual messages, and automatic writing. The phrasing felt eerily like messages often recorded in historical spiritualist documents.\n",
    "\n"
   ]
  },
  {
   "cell_type": "markdown",
   "id": "f579457e-ae16-4fc6-a703-afa44a597775",
   "metadata": {},
   "source": [
    "### Step 4: Thematic Interpretation – What Was the Purpose of This Text?\n",
    "The AI’s reconstruction raised the question: What kind of message is this? Based on word structure and phrase composition, a few possibilities emerged:\n",
    "\n",
    "A Spiritualist Transmission:\n",
    "The 19th century saw a surge in interest in spiritualism, where people claimed to receive messages from the deceased or higher realms. This text’s repetitive phrasing and visionary tone strongly resemble messages from séances or mediumistic writings.\n",
    "\n",
    "A Prophetic or Instructive Message:\n",
    "Certain phrases suggest guidance, as though directing someone toward an action, a realization, or a foreseen event. Words like \"path,\" \"vision,\" \"message,\" and \"waiting\" reinforce this theme.\n",
    "\n",
    "A Channeled Historical Account:\n",
    "It’s possible this document recorded someone's dictated thoughts or experiences, preserved in a shorthand-like form for later transcription.\n",
    "\n",
    "These interpretations show how AI can contextualize historical texts, providing insights that would typically require specialized linguistic or historical expertise.\n",
    "\n"
   ]
  },
  {
   "cell_type": "markdown",
   "id": "3149a9da-abcd-4338-844a-c28e77524b7c",
   "metadata": {},
   "source": [
    "### Lessons Learned: AI’s Strengths and Limitations in Historical Decoding\n",
    "This experiment revealed both the potential and challenges of using AI for historical document interpretation.\n",
    "\n",
    "AI’s Strengths:\n",
    "✅ Pattern Recognition: GPT successfully identified repeating symbols and inferred structural elements.\n",
    "✅ Linguistic Inference: It was able to match word frequencies to common English phrases.\n",
    "✅ Contextual Interpretation: GPT suggested possible meanings based on known historical writing styles.\n",
    "\n",
    "AI’s Limitations: \n",
    "❌ Lack of Shorthand Training: GPT struggled because it wasn’t explicitly trained on rare shorthand systems.\n",
    "❌ Ambiguity in Interpretation: Some reconstructed phrases felt generic rather than precise.\n",
    "❌ Dependence on User Guidance: AI required refinement and direction to improve its output.\n",
    "\n",
    "\n",
    "### Final Thoughts: The Future of AI in Historical Analysis\n",
    "This case study demonstrated how AI can act as a powerful tool for uncovering meaning in mysterious texts. While GPT-4 couldn’t provide a direct translation, it played a crucial role in recognizing patterns, identifying common words, and suggesting plausible meanings.\n",
    "\n",
    "Moving forward, this approach could be improved by:\n",
    "\n",
    "- Enhancing AI models with historical shorthand training.\n",
    "- Using machine learning to compare texts with known archives.\n",
    "- Applying AI to larger collections of mysterious historical documents.\n",
    "\n",
    "Ultimately, AI isn’t replacing human expertise—it’s enhancing it, offering new ways to analyze historical artifacts. The more we refine this process, the closer we get to unlocking the secrets of the past.\n",
    "\n"
   ]
  }
 ],
 "metadata": {
  "citation-manager": {
   "items": {}
  },
  "kernelspec": {
   "display_name": "Python 3 (ipykernel)",
   "language": "python",
   "name": "python3"
  },
  "language_info": {
   "codemirror_mode": {
    "name": "ipython",
    "version": 3
   },
   "file_extension": ".py",
   "mimetype": "text/x-python",
   "name": "python",
   "nbconvert_exporter": "python",
   "pygments_lexer": "ipython3",
   "version": "3.10.12"
  }
 },
 "nbformat": 4,
 "nbformat_minor": 5
}
