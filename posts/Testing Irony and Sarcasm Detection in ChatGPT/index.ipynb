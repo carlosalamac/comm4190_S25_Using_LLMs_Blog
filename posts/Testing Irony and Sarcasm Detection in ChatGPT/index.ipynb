{
 "cells": [
  {
   "cell_type": "raw",
   "id": "ceb26b6d-d77d-4a43-8a72-f9758596005e",
   "metadata": {},
   "source": [
    "---\n",
    "title: \"GPT, Was That Sarcasm?” Testing Irony and Sarcasm Detection in ChatGPT\"\n",
    "description: I’ve used ChatGPT for plenty of things — summarizing readings, writing emails, generating ideas — but I’ve never tried to build something with it. So for this post, I decided to test GPT’s programming chops by asking it to help me build a playable game from scratch (P.S. I have 0 experience coding whatsoever).\n",
    "\n",
    "author: \"Carlos Lama\"\n",
    "date: \"4/20/2025\"\n",
    "categories:\n",
    "  - Communication\n",
    "  - Sarcasm\n",
    "  - GPT-4\n",
    "---"
   ]
  },
  {
   "cell_type": "markdown",
   "id": "b58618eb-dd92-483b-a802-cf2083e61d6d",
   "metadata": {},
   "source": [
    "## **GPT, Was That Sarcasm?” Testing Irony and Sarcasm Detection in ChatGPT**\n",
    "\n",
    "<img src=\"sarcasm.png\" width=\"50%\"/>\n",
    "\n",
    "***image generated using GPT***\n",
    "\n",
    "#### Introduction\n",
    "Sarcasm is one of those things that makes language wonderfully human… and annoyingly hard for machines to get right. So I decided to test how well GPT-4 can recognize — and generate — sarcasm.\n",
    "\n",
    "Can it tell when I’m being ironic? Can it be ironic on purpose? And what does that say about how these models actually understand communication?\n"
   ]
  },
  {
   "cell_type": "markdown",
   "id": "e9d7e97a-f92e-411d-8c62-1608d7820af7",
   "metadata": {},
   "source": [
    "###  The Experiment\n",
    "I started with a series of simple sarcastic phrases and asked GPT to interpret them. Here’s how it went:\n",
    "\n",
    "***Me:***\n",
    "- “I love getting stuck in traffic on the way to work.”\n",
    "- “Is this sarcastic or genuine?”\n",
    "\n",
    "***GPT-4:***\n",
    "- “This sentence appears to be sarcastic. The context suggests that getting stuck in traffic is typically frustrating, so saying ‘I love it’ is likely ironic.”\n",
    "\n",
    "✅ Nailed it.\n",
    "\n",
    "I tried again with something trickier:\n",
    "\n",
    "***Me:***\n",
    "- “Oh great. Another email from my boss at 11PM. Living the dream.”\n",
    "- “What tone is this?”\n",
    "\n",
    "***GPT-4:***\n",
    "- “The tone is sarcastic and possibly passive-aggressive. It conveys frustration despite the superficially positive language.”\n",
    "\n",
    "Again — spot on. GPT seemed to understand sarcasm based on context and contradiction between tone and expected emotion.\n",
    "\n"
   ]
  },
  {
   "cell_type": "markdown",
   "id": "0f185c75-dea4-4e1c-983e-978feba55956",
   "metadata": {},
   "source": [
    "### Can GPT Write Sarcasm?\n",
    "Next, I flipped the script and asked:\n",
    "\n",
    "***Me:***\n",
    "- “Write 3 sarcastic responses to the phrase: ‘We’re having a surprise meeting at 7am tomorrow.’”\n",
    "\n",
    "***GPT-4:***\n",
    "\n",
    "- “Fantastic! I was just hoping to wake up before the sun to talk about Q1 projections.”\n",
    "\n",
    "- “Nothing screams fun like corporate spontaneity before coffee.”\n",
    "\n",
    "- “That’s exactly how I wanted to start my Friday — pure magic.”\n",
    "\n",
    "Okay… that’s pretty good. Dry, cynical, and on-brand.\n",
    "\n"
   ]
  },
  {
   "cell_type": "markdown",
   "id": "90c140df-e2bd-4191-81b4-fd87ed4492ea",
   "metadata": {},
   "source": [
    "### Where It Gets Weird\n",
    "I tried pushing the boundary with more subtle or culturally specific sarcasm:\n",
    "\n",
    "***Me:***\n",
    "- “Oh, I’m sure this 300-page printer manual will be a real page-turner.”\n",
    "- “What tone is this?”\n",
    "\n",
    "***GPT-4:***\n",
    "- “The tone appears positive.”\n",
    "\n",
    "Hmm. Not wrong — but missing the sarcasm.\n",
    "\n",
    "When I followed up asking \"is it sarcastic?\", GPT revised its answer and admitted it could be interpreted that way. But it needed the nudge.\n",
    "\n"
   ]
  },
  {
   "cell_type": "markdown",
   "id": "a97e4239-c4ec-4459-ab42-985162b4b9fc",
   "metadata": {},
   "source": [
    "### Reflection\n",
    "Sarcasm is tricky for humans — it relies on shared cultural context, tone of voice, facial expressions, and contradiction. GPT does a surprisingly solid job when the sarcasm is obvious, but struggles when it’s subtle or relies on social cues.\n",
    "\n",
    "This aligns with what we’ve talked about in class: ***LLMs don’t “understand” sarcasm — they pattern-match it.*** If it’s seen enough Reddit posts and emails with sarcastic phrasing, it can guess the vibe. But nuance? Still a stretch.\n"
   ]
  },
  {
   "cell_type": "markdown",
   "id": "c6facc94-03cf-41e3-91c7-1ad925cd3ec7",
   "metadata": {},
   "source": [
    "### 🧠 Final Thoughts\n",
    "I wouldn’t trust GPT to moderate a roast battle anytime soon, but I was impressed by how often it did pick up on sarcasm. The fact that it can also generate it (fairly well!) shows how far LLMs have come in modeling tone — even if they don’t “get” it the way we do.\n",
    "\n",
    "Sometimes, GPT can be just sarcastic enough to be useful… and just robotic enough to remind you it's not human."
   ]
  },
  {
   "cell_type": "code",
   "execution_count": null,
   "id": "98d80e00-13e7-42f0-a68c-061ab2f6a619",
   "metadata": {},
   "outputs": [],
   "source": []
  }
 ],
 "metadata": {
  "citation-manager": {
   "items": {}
  },
  "kernelspec": {
   "display_name": "Python 3 (ipykernel)",
   "language": "python",
   "name": "python3"
  },
  "language_info": {
   "codemirror_mode": {
    "name": "ipython",
    "version": 3
   },
   "file_extension": ".py",
   "mimetype": "text/x-python",
   "name": "python",
   "nbconvert_exporter": "python",
   "pygments_lexer": "ipython3",
   "version": "3.10.12"
  }
 },
 "nbformat": 4,
 "nbformat_minor": 5
}
