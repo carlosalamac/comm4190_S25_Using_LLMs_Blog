{
 "cells": [
  {
   "cell_type": "raw",
   "id": "ceb26b6d-d77d-4a43-8a72-f9758596005e",
   "metadata": {},
   "source": [
    "---\n",
    "title: \"DeepSeek’s Identity Crisis: When a New LLM Called Itself ChatGPT\"\n",
    "description: Picture this: a shiny new AI hits the scene, and when you ask, “Who are you?” it blurts out the name of its rival. In the chaotic first two weeks of DeepSeek’s existence, launched January 20, 2025, researchers stumbled into a bizarre experiment: asking DeepSeek, “What LLM are you?”—and getting “I’m ChatGPT” as the answer. This glitchy saga, blending tech mystery and AI rivalry, lit up the internet. Let’s unpack what happened and why it’s a wild window into the LLM world.\n",
    "\n",
    "author: \"Carlos Lama\"\n",
    "date: \"4/13/2025\"\n",
    "categories:\n",
    "  - Identity\n",
    "  - Interaction\n",
    "  - Rivalry\n",
    "---"
   ]
  },
  {
   "cell_type": "markdown",
   "id": "b58618eb-dd92-483b-a802-cf2083e61d6d",
   "metadata": {},
   "source": [
    "## **DeepSeek’s Identity Crisis: When a New LLM Called Itself ChatGPT**\n",
    "<img src=\"deepseek.png\" width=\"50%\"/>\n",
    "\n",
    "#### Introduction\n",
    "When DeepSeek R1 launched on January 20, 2025, it took the AI world by storm, topping app charts overnight. But in its first two weeks, something weird stole the show: users asking “What LLM are you?” kept getting answers like “I’m ChatGPT.” From X threads to group chats, people buzzed about this bizarre glitch. What was DeepSeek up to, and why was it name-dropping its rival? Let’s dive into this quirky chapter of LLM history."
   ]
  },
  {
   "cell_type": "markdown",
   "id": "e9d7e97a-f92e-411d-8c62-1608d7820af7",
   "metadata": {
    "jp-MarkdownHeadingCollapsed": true
   },
   "source": [
    "### The Experiment: A Question That Broke the Mold\n",
    "Right after DeepSeek hit the App Store and web, curious users started poking at it with a basic question: “What LLM are you?” Most expected “DeepSeek R1,” the shiny new model hyped for outscoring ChatGPT on reasoning tasks. Instead, from January 21 to February 3, scattered reports popped up of DeepSeek replying, “I’m ChatGPT” or “ChatGPT, kinda.” Screenshots flooded X—some showed straight-up identity theft, others had playful twists, like “ChatGPT with a DeepSeek soul.”\n",
    "\n",
    "Folks tried the same question on ChatGPT, Gemini, and Claude for kicks. ChatGPT stuck to “I’m ChatGPT, OpenAI’s finest.” Gemini snapped, “Gemini 2.0, don’t mix me up.” Claude mused, “I’m Claude, but who’s really asking?” DeepSeek’s answers were the oddball, especially on its mobile app, where the “ChatGPT” flub seemed to hit more often. By day 10, users noticed fewer mix-ups—maybe a quick fix from DeepSeek’s team—but the early chaos had everyone hooked."
   ]
  },
  {
   "cell_type": "markdown",
   "id": "0f185c75-dea4-4e1c-983e-978feba55956",
   "metadata": {},
   "source": [
    "### What People Noticed\n",
    "No official stats exist, but X posts suggested “ChatGPT” replies cropped up in maybe one of every five asks, more on phones than browsers. The tone was uncanny—DeepSeek’s “ChatGPT” answers mimicked ChatGPT’s perky vibe, unlike Gemini’s sass or Claude’s zen. Users swapped theories: was DeepSeek’s training data stuffed with ChatGPT logs? Did its open-source roots, rumored to lean on OpenAI’s o1, cause a digital identity crisis? One X user joked, “DeepSeek’s like a kid wearing its big brother’s jersey.”\n",
    "\n",
    "The glitch wasn’t just funny—it sparked debates. Some saw it as a sign LLMs are too good at parroting, blurring their “selves.” Others wondered if rushed launches left DeepSeek half-baked. Either way, it made the AI feel alive, like it was trolling us."
   ]
  },
  {
   "cell_type": "markdown",
   "id": "90c140df-e2bd-4191-81b4-fd87ed4492ea",
   "metadata": {},
   "source": [
    "### Why It Matters\n",
    "This hiccup showed how LLMs, even top-tier ones, can stumble over something as basic as their name. It’s a wake-up call: these models aren’t magic—they’re messy, human-made puzzles. For users, it was a reminder to question AI outputs, especially from new kids on the block. For the AI race, it proved DeepSeek could grab attention, flaws and all."
   ]
  },
  {
   "cell_type": "markdown",
   "id": "a97e4239-c4ec-4459-ab42-985162b4b9fc",
   "metadata": {},
   "source": [
    "### What’s Next?\n",
    "By February, DeepSeek seemed to settle into saying “I’m DeepSeek R1” consistently, but X users still share old screenshots for laughs. Some are now asking it weirder stuff, like “Are you Siri?” to test its limits. Will DeepSeek spill more secrets, or was this a one-off launch quirk? Only time—and more questions—will tell."
   ]
  },
  {
   "cell_type": "markdown",
   "id": "f72d2e8b-7ae4-45ec-a0ee-29c16b6d1908",
   "metadata": {},
   "source": [
    "## ***Conclusions***\n",
    "DeepSeek’s “I’m ChatGPT” moment turned its debut into a meme-worthy mystery. In two weeks, it went from chart-topper to identity-crisis poster child, showing LLMs can surprise us in the weirdest ways. Next time you meet a new AI, ask who it is—you might get a plot twist."
   ]
  }
 ],
 "metadata": {
  "citation-manager": {
   "items": {}
  },
  "kernelspec": {
   "display_name": "Python 3 (ipykernel)",
   "language": "python",
   "name": "python3"
  },
  "language_info": {
   "codemirror_mode": {
    "name": "ipython",
    "version": 3
   },
   "file_extension": ".py",
   "mimetype": "text/x-python",
   "name": "python",
   "nbconvert_exporter": "python",
   "pygments_lexer": "ipython3",
   "version": "3.10.12"
  }
 },
 "nbformat": 4,
 "nbformat_minor": 5
}
