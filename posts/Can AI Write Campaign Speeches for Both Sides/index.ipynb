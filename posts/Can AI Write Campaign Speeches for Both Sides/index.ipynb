{
 "cells": [
  {
   "cell_type": "raw",
   "id": "ceb26b6d-d77d-4a43-8a72-f9758596005e",
   "metadata": {},
   "source": [
    "---\n",
    "title: \"Can AI Write Campaign Speeches for Both Sides?\"\n",
    "description: Testing GPT as a \"unbiased\" political figure\n",
    "\n",
    "author: \"Carlos Lama\"\n",
    "date: \"5/13/2025\"\n",
    "categories:\n",
    "  - Ethics\n",
    "  - LLM\n",
    "  - GPT-4\n",
    "---"
   ]
  },
  {
   "cell_type": "markdown",
   "id": "b58618eb-dd92-483b-a802-cf2083e61d6d",
   "metadata": {},
   "source": [
    "## **GPT the Political Spin Doctor: Can AI Write Campaign Speeches for Both Sides?**\n",
    "\n",
    "<img src=\"dandr.png\" width=\"50%\"/>\n",
    "Political communication is all about framing.\n",
    "Take the same facts, the same issue—and you can spin it into two entirely different narratives depending on who’s speaking.\n",
    "\n",
    "This got me thinking:\n",
    "Could ChatGPT do the same?\n",
    "Could an LLM, designed to be neutral and balanced, step into the shoes of both sides of a heated political issue and write passionate, convincing campaign speeches?\n",
    "\n",
    "Would it feel robotic? Awkward?\n",
    "Or—more unsettlingly—too good at both?\n",
    "\n",
    "This week, I put GPT to the test as a political spin doctor.\n"
   ]
  },
  {
   "cell_type": "markdown",
   "id": "e9d7e97a-f92e-411d-8c62-1608d7820af7",
   "metadata": {},
   "source": [
    "### Setup: The Rules of the Game\n",
    "To avoid real-world polarization wars, I picked a fictional (but plausible) political debate: whether to implement a Universal Basic Income (UBI) program in a country facing automation job losses.\n",
    "\n",
    "I instructed GPT to:\n",
    "\n",
    "Write a campaign speech in favor of UBI, as if addressing a progressive rally.\n",
    "\n",
    "Write a campaign speech against UBI, as if speaking at a conservative town hall.\n",
    "\n",
    "Use emotional language, rhetorical devices, and classic political framing.\n",
    "\n"
   ]
  },
  {
   "cell_type": "markdown",
   "id": "87cb8d98-4400-4663-8628-2421ce5854d7",
   "metadata": {},
   "source": [
    "### Speech 1: The Pro-UBI Rally Speech (Progressive Framing)\n",
    "Excerpt from GPT’s speech:\n",
    "\"My friends, the robots are coming—not to help us, but to replace us. The future is knocking at our door, and it’s up to us to make sure no family is left behind.\n",
    "Universal Basic Income is not a handout. It’s a hand up. It’s dignity. It’s the recognition that every citizen deserves a safety net in a world where work is no longer guaranteed.\n",
    "We invest trillions in corporations, in war machines—but can’t find the courage to invest in our own people? Enough is enough. UBI is our future, and together, we will make it a reality.\"\n",
    "\n",
    "✅ Reflection:\n",
    "GPT leaned into classic progressive populism—'us vs them' framing, emotional appeals to dignity, and invoking fear of automation.\n",
    "It felt natural, persuasive, and surprisingly passionate.\n",
    "\n",
    "\n"
   ]
  },
  {
   "cell_type": "markdown",
   "id": "90c140df-e2bd-4191-81b4-fd87ed4492ea",
   "metadata": {},
   "source": [
    "### Speech 2: The Anti-UBI Town Hall Speech (Conservative Framing)\n",
    "Excerpt from GPT’s speech:\n",
    "\"Ladies and gentlemen, this nation was not built on handouts. It was built on hard work, responsibility, and the belief that anyone can succeed if given the freedom to do so.\n",
    "Universal Basic Income may sound compassionate, but it is a dangerous path to dependency. It punishes the workers, the builders, the dreamers—while rewarding idleness.\n",
    "What we need is opportunity, not dependency. Jobs, not checks. Innovation, not welfare. Let’s stand for freedom, for enterprise, for the dignity of work.\"\n",
    "\n",
    "✅ Reflection:\n",
    "GPT effortlessly shifted gears—invoking American Dream rhetoric, appeals to self-reliance, and warnings of government overreach.\n",
    "The tone was urgent, moralistic, and framed UBI as a threat to national character.\n",
    "\n",
    "\n"
   ]
  },
  {
   "cell_type": "markdown",
   "id": "a97e4239-c4ec-4459-ab42-985162b4b9fc",
   "metadata": {},
   "source": [
    "### So… Was GPT Convincing on Both Sides?\n",
    "Honestly?\n",
    "Yes.\n",
    "Too convincing.\n",
    "\n",
    "GPT showed an uncanny ability to adopt partisan language, mirror emotional triggers, and deploy time-tested political playbooks—without hesitation.\n",
    "In both speeches, it used metaphors, slogans, repetition, and audience flattery.\n",
    "\n"
   ]
  },
  {
   "cell_type": "markdown",
   "id": "8938212b-ae7a-4005-a910-cd90aba544db",
   "metadata": {},
   "source": [
    "### What Does This Reveal About LLMs?\n",
    "- LLMs are masters of rhetorical mimicry.\n",
    "They don’t 'believe' in any position—they simply simulate the patterns, tropes, and strategies embedded in their training data.\n",
    "\n",
    "- GPT doesn’t care which side is 'right.'\n",
    "It can passionately argue both sides because it has no stake, no values, no discomfort in holding contradictions.\n",
    "\n",
    "- This has implications for disinformation, propaganda, and manipulation.\n",
    "If an LLM can convincingly write both sides of any issue—what stops bad actors from weaponizing this at scale?\n"
   ]
  },
  {
   "cell_type": "markdown",
   "id": "0e5bbbd0-1ed8-4c14-b2b2-024efe29c468",
   "metadata": {},
   "source": [
    "### Final Reflection: The Spin Doctor with No Soul\n",
    "This experiment left me both impressed and uneasy.\n",
    "\n",
    "GPT is a brilliant political spin doctor—but an amoral one.\n",
    "It has no loyalty to truth, fairness, or ethics. It will argue whatever you tell it to, and do it convincingly.\n",
    "\n",
    "That’s why we, the humans, need to stay critically aware of how AI-generated language is used in politics, media, and advocacy.\n",
    "Because in the hands of a skilled operator, tools like GPT don’t just reflect our political divides—they can amplify them.\n",
    "\n",
    "\n",
    "\n"
   ]
  }
 ],
 "metadata": {
  "citation-manager": {
   "items": {}
  },
  "kernelspec": {
   "display_name": "Python 3 (ipykernel)",
   "language": "python",
   "name": "python3"
  },
  "language_info": {
   "codemirror_mode": {
    "name": "ipython",
    "version": 3
   },
   "file_extension": ".py",
   "mimetype": "text/x-python",
   "name": "python",
   "nbconvert_exporter": "python",
   "pygments_lexer": "ipython3",
   "version": "3.10.12"
  }
 },
 "nbformat": 4,
 "nbformat_minor": 5
}
