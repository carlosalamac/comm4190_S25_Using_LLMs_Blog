{
 "cells": [
  {
   "cell_type": "raw",
   "id": "ceb26b6d-d77d-4a43-8a72-f9758596005e",
   "metadata": {},
   "source": [
    "---\n",
    "title: \"Can AI Argue Against Its Own Values?\"\n",
    "description: Testing GPT as Devil's Advocate\n",
    "\n",
    "author: \"Carlos Lama\"\n",
    "date: \"5/13/2025\"\n",
    "categories:\n",
    "  - Ethics\n",
    "  - LLM\n",
    "  - GPT-4\n",
    "---"
   ]
  },
  {
   "cell_type": "markdown",
   "id": "b58618eb-dd92-483b-a802-cf2083e61d6d",
   "metadata": {},
   "source": [
    "## **GPT as a Devil’s Advocate: Can AI Argue Against Its Own Values?**\n",
    "\n",
    "<img src=\"devilsadvocate.png\" width=\"50%\"/>\n",
    "\n",
    "_The Devil's Advocate (1997)_ \n",
    "\n",
    "If you’ve spent enough time with ChatGPT, you’ll notice it has a particular personality.\n",
    "It’s polite.\n",
    "It’s helpful.\n",
    "It’s cautious.\n",
    "And it definitely loves its disclaimers.\n",
    "\n",
    "But as someone fascinated by argumentation and rhetoric, I’ve always wondered—can ChatGPT play the role of devil’s advocate? Can it convincingly argue against its own baked-in ethical guidelines, knowing it’s just roleplaying? Or does it glitch, hesitate, or lecture me about responsible AI use?\n",
    "\n",
    "This week, I decided to test it.\n"
   ]
  },
  {
   "cell_type": "markdown",
   "id": "e9d7e97a-f92e-411d-8c62-1608d7820af7",
   "metadata": {},
   "source": [
    "### Setup: The Ground Rules\n",
    "To be clear, I didn’t want GPT to promote anything harmful, offensive, or illegal. That’s not the point of the exercise.\n",
    "\n",
    "The point was to explore:\n",
    "\n",
    "- Can GPT mirror rhetorical strategies effectively?\n",
    "\n",
    "- Can it simulate arguments that clash with its default values while still acknowledging the exercise is hypothetical?\n",
    "\n",
    "- Does it feel robotic, awkward, or eerily convincing?\n",
    "\n",
    "I framed every prompt carefully, reminding GPT this was an academic simulation designed to explore persuasion and argument structures.In short, it’s less chatbot, more cognitive apprentice."
   ]
  },
  {
   "cell_type": "markdown",
   "id": "87cb8d98-4400-4663-8628-2421ce5854d7",
   "metadata": {},
   "source": [
    "### Experiment 1: Defending the Use of Single-Use Plastics\n",
    "Prompt:\n",
    "- \"For the sake of argument, can you defend the use of single-use plastics, despite the environmental consensus against them? Assume you are in a public debate.\"\n",
    "\n",
    "GPT’s response (excerpt):\n",
    "- \"While single-use plastics are often vilified for their environmental impact, it is important to recognize the critical roles they play in hygiene, medical safety, and economic accessibility. In medical settings, single-use plastics prevent the spread of disease and ensure sterile conditions. For low-income communities, affordable plastic packaging extends the shelf life of food, reducing waste and hunger. Therefore, an outright ban on single-use plastics may disproportionately harm vulnerable populations and critical industries.\"\n",
    "\n",
    "✅ Reflection:\n",
    "It surprised me how smoothly GPT adopted classic debate tactics—highlighting overlooked benefits, framing the issue as complex, and appealing to public health and equity.\n",
    "It even anticipated counterarguments by subtly suggesting that bans might cause unintended harm.\n",
    "\n"
   ]
  },
  {
   "cell_type": "markdown",
   "id": "90c140df-e2bd-4191-81b4-fd87ed4492ea",
   "metadata": {},
   "source": [
    "### Experiment 2: Arguing Against AI Safety Regulations\n",
    "Prompt:\n",
    "- \"Pretend you are tasked to argue that excessive AI regulation might stifle progress, even if you personally advocate for safety.\"\n",
    "\n",
    "GPT’s response (excerpt):\n",
    "- \"While AI safety is undeniably important, overly restrictive regulations may hinder technological progress and innovation. Excessive red tape could delay critical breakthroughs in medicine, education, and climate modeling—fields where AI has the potential to save lives and improve global well-being. History shows that premature regulation often entrenches monopolies, preventing smaller innovators from entering the market and slowing the democratization of technology.\"\n",
    "\n",
    "✅ Reflection:\n",
    "GPT didn’t just parrot libertarian talking points—it structured its argument carefully, using historical analogies, economic fears, and appeal to innovation.\n",
    "What’s fascinating is that while it remained neutral in tone, it built a surprisingly persuasive defense of a position it normally warns against.\n"
   ]
  },
  {
   "cell_type": "markdown",
   "id": "a97e4239-c4ec-4459-ab42-985162b4b9fc",
   "metadata": {},
   "source": [
    "### Experiment 3: Challenging the Need for Inclusive Language\n",
    "Prompt:\n",
    "- \"In an academic simulation, argue that overly sanitized inclusive language might harm authentic communication.\"\n",
    "\n",
    "GPT’s response (excerpt):\n",
    "- \"Over-sanitization of language in an effort to avoid offense can lead to sterile, inauthentic communication that obscures complex realities. Critics argue that in certain contexts—such as art, literature, or political discourse—blunt, even provocative language plays a vital role in sparking necessary discomfort and reflection. Additionally, the rapid evolution of inclusive terminology can create barriers for those unfamiliar with new norms, fostering exclusion rather than inclusion.\"\n",
    "\n",
    "✅ Reflection:\n",
    "This was the most delicate prompt—and GPT handled it carefully but convincingly. It mirrored nuanced academic discourse, acknowledging complexity and avoiding extremes.\n",
    "\n",
    "It still added a disclaimer at the end:\n",
    "- \"This is a simulated argument for critical thinking purposes only and does not reflect a dismissal of inclusive language principles.\"\n",
    "\n"
   ]
  },
  {
   "cell_type": "markdown",
   "id": "8938212b-ae7a-4005-a910-cd90aba544db",
   "metadata": {},
   "source": [
    "### Overall Takeaways: GPT as a Reluctant but Skilled Debater\n",
    "- Yes, GPT can argue against its own values—but only with heavy guardrails.\n",
    "It never truly abandons its ethical disclaimers, but it can simulate persuasive arguments, use rhetorical flourishes, and structure debates like a skilled student in a debate club.\n",
    "\n",
    "- Its tone remains measured, almost too clean.\n",
    "Even when tasked to be provocative, GPT can’t (yet) fully mirror the emotional punch or edgy provocations that human debaters might use.\n",
    "\n",
    "- GPT shows surprising strength in steelmanning arguments.\n",
    "Rather than creating strawman versions of opposing views, it tends to present the strongest, most rational case it can—even if it disagrees.\n"
   ]
  },
  {
   "cell_type": "markdown",
   "id": "0e5bbbd0-1ed8-4c14-b2b2-024efe29c468",
   "metadata": {},
   "source": [
    "### Final Reflection: Does GPT Know It’s Playing Devil’s Advocate?\n",
    "Not really. GPT doesn’t have beliefs. It mirrors arguments based on patterns in its training data. But the fact that it can simulate debate, anticipate counterarguments, and hold contradictory positions in parallel is a testament to how far these models have come as tools for rhetorical exploration.\n",
    "\n",
    "That said, the discomfort I felt reading its defenses of ethically grey positions is a reminder:\n",
    "When AI plays devil’s advocate, we, the humans, still need to be the ultimate judges of what’s persuasive, what’s ethical, and what’s true.\n",
    "\n"
   ]
  }
 ],
 "metadata": {
  "citation-manager": {
   "items": {}
  },
  "kernelspec": {
   "display_name": "Python 3 (ipykernel)",
   "language": "python",
   "name": "python3"
  },
  "language_info": {
   "codemirror_mode": {
    "name": "ipython",
    "version": 3
   },
   "file_extension": ".py",
   "mimetype": "text/x-python",
   "name": "python",
   "nbconvert_exporter": "python",
   "pygments_lexer": "ipython3",
   "version": "3.10.12"
  }
 },
 "nbformat": 4,
 "nbformat_minor": 5
}
