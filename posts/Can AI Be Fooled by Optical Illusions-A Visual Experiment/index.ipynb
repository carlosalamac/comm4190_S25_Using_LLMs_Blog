{
 "cells": [
  {
   "cell_type": "raw",
   "id": "ceb26b6d-d77d-4a43-8a72-f9758596005e",
   "metadata": {},
   "source": [
    "---\n",
    "title: \"Can AI Be Fooled by Optical Illusions?\"\n",
    "description: \"An experiment comparing Human interpretation to that of LLM's\"\n",
    "author: \"Carlos Lama\"\n",
    "date: \"2/23/2025\"\n",
    "categories:\n",
    "  - LLMs\n",
    "  - prompting\n",
    "  - logic\n",
    "---"
   ]
  },
  {
   "cell_type": "markdown",
   "id": "b58618eb-dd92-483b-a802-cf2083e61d6d",
   "metadata": {},
   "source": [
    "## Can AI Be Fooled by Optical Illusions? A Visual Experiment\n",
    "\n",
    "Our brains are wired to perceive the world in ways that aren't always accurate. Optical illusions exploit these cognitive shortcuts, tricking us into seeing things that aren't really there. But what about AI? Can an artificial intelligence model, which processes visual data in a purely logical manner, experience illusions the same way we do?\n",
    "\n",
    "To find out, I conducted an experiment by showing different classic optical illusions to an AI and comparing its responses to human perception. The results reveal fascinating insights into how AI \"sees\" the world compared to us.\n"
   ]
  },
  {
   "cell_type": "markdown",
   "id": "e9d7e97a-f92e-411d-8c62-1608d7820af7",
   "metadata": {},
   "source": [
    "\n",
    "### 1. The Müller-Lyer Illusion\n",
    "\n",
    "<img src=\"muller_illusion.png\" width=\"50%\"/>\n",
    "\n",
    "This illusion consists of two lines of equal length, each adorned with opposite-facing arrowheads. Humans typically perceive one line as longer than the other due to how our brains interpret depth and perspective.\n",
    "\n",
    "AI's Analysis: The AI correctly identifies that both lines are the same length, measuring them without being influenced by the arrowhead orientation. While humans rely on visual cues that create the illusion of depth, AI processes raw pixel data, avoiding the trick altogether.\n"
   ]
  },
  {
   "cell_type": "markdown",
   "id": "28b4f8ce-0eb8-47b7-ab32-026a9efd5f34",
   "metadata": {},
   "source": [
    "### 2. The Kanizsa Triangle\n",
    "\n",
    "<img src=\"Kanizna.png\" width=\"50%\"/>\n",
    "\n",
    "This illusion makes us perceive a bright white triangle that doesn’t actually exist, created by strategically placed Pac-Man-like shapes and angles.\n",
    "\n",
    "AI's Analysis: The AI detects the individual shapes and their arrangement but does not perceive the nonexistent white triangle. Since AI lacks the human tendency to infer missing information based on context, it only sees what’s explicitly present."
   ]
  },
  {
   "cell_type": "markdown",
   "id": "0f185c75-dea4-4e1c-983e-978feba55956",
   "metadata": {},
   "source": [
    "### 3. The Checker Shadow Illusion\n",
    "\n",
    "<img src=\"checkershadow.png\" width=\"50%\"/>\n",
    "\n",
    "This illusion presents a checkerboard with a shadow cast over it, making two squares of identical color appear different. Humans perceive the shadowed square as lighter due to our brain’s automatic adjustment for lighting conditions.\n",
    "\n",
    "AI's Analysis: The AI, analyzing the pixel values directly, determines that the two squares are in fact the same color. Unlike humans, who instinctively correct for lighting and shading, AI remains unaffected by contextual illusions."
   ]
  },
  {
   "cell_type": "markdown",
   "id": "90c140df-e2bd-4191-81b4-fd87ed4492ea",
   "metadata": {},
   "source": [
    "### 4. The Spinning Dancer Illusion\n",
    "\n",
    "<img src=\"DancingGirl.png\" width=\"50%\"/>\n",
    "\n",
    "(FYI: It is actually a video, would recommend looking it up)\n",
    "\n",
    "This illusion features a silhouette of a dancer that appears to spin in both clockwise and counterclockwise directions, depending on the viewer's perception.\n",
    "\n",
    "AI's Analysis: The AI identifies the individual frames of movement but does not \"flip\" its perception like humans do. Since it does not have an inherent preference for one direction over the other, it simply registers the motion as ambiguous."
   ]
  },
  {
   "cell_type": "markdown",
   "id": "6efe12db-1013-40b5-b926-857de4c14448",
   "metadata": {},
   "source": [
    "### Key Takeaways: AI vs. Human Perception\n",
    "\n",
    "1. AI Processes Raw Data: Unlike humans, AI perceives images as they are, unaffected by depth, shading, or implied shapes.\n",
    "\n",
    "2. No Context-Based Assumptions: Humans use experience and context to fill in gaps, leading to optical illusions. AI only recognizes what’s explicitly present.\n",
    "\n",
    "3. AI's Strength in Objectivity: While illusions exploit human cognitive biases, AI can analyze visual data without these biases, making it useful for tasks requiring precise measurement and pattern recognition.\n",
    "\n",
    "### Final Thoughts: Can AI Be Fooled?\n",
    "\n",
    "Not in the same way humans are. While AI can recognize illusions, it does not \"fall\" for them. This experiment highlights the fundamental differences between human perception and AI's analytical approach to visual data. It also suggests practical applications—AI could assist in medical imaging, quality control, and even forensics, where objective analysis is critical.\n",
    "\n",
    "Would you like to test an illusion yourself? Try showing different optical illusions to AI and see how it responds!"
   ]
  },
  {
   "cell_type": "code",
   "execution_count": null,
   "id": "dffd39b1-a20e-4fd0-b31b-419a10d6c946",
   "metadata": {},
   "outputs": [],
   "source": []
  }
 ],
 "metadata": {
  "citation-manager": {
   "items": {}
  },
  "kernelspec": {
   "display_name": "Python 3 (ipykernel)",
   "language": "python",
   "name": "python3"
  },
  "language_info": {
   "codemirror_mode": {
    "name": "ipython",
    "version": 3
   },
   "file_extension": ".py",
   "mimetype": "text/x-python",
   "name": "python",
   "nbconvert_exporter": "python",
   "pygments_lexer": "ipython3",
   "version": "3.10.12"
  }
 },
 "nbformat": 4,
 "nbformat_minor": 5
}
