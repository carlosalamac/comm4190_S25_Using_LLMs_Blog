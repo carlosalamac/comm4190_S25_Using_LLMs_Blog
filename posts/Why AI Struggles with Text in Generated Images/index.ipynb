{
 "cells": [
  {
   "cell_type": "raw",
   "id": "ceb26b6d-d77d-4a43-8a72-f9758596005e",
   "metadata": {},
   "source": [
    "---\n",
    "title: \"Why AI Struggles with Text in Generated Images: A Look into GPT-4’s Limitations\"\n",
    "description: \"AI-generated images have made significant progress in realism and artistic detail, but one persistent issue remains: generating accurate text on images. Whether it’s a T-shirt design, a street sign, or a digital billboard, AI models often fail to render text correctly. In this blog post, I explore why large language models (LLMs) like GPT-4 (DALL·E) struggle with text in images, using my own experiments and interactions as examples.\"\n",
    "author: \"Carlos Lama\"\n",
    "date: \"2/15/2025\"\n",
    "categories:\n",
    "  - LLMs\n",
    "  - prompting\n",
    "  - logic\n",
    "---"
   ]
  },
  {
   "cell_type": "markdown",
   "id": "b58618eb-dd92-483b-a802-cf2083e61d6d",
   "metadata": {},
   "source": [
    "## Why AI Struggles with Text in Generated Images: A Look into GPT-4’s Limitations\n",
    "\n",
    "AI-generated images have made significant progress in realism and artistic detail, but one persistent issue remains: generating accurate text on images. Whether it’s a T-shirt design, a street sign, or a digital billboard, AI models often fail to render text correctly. In this blog post, I explore why large language models (LLMs) like GPT-4 (DALL·E) struggle with text in images, using my own experiments and interactions as examples."
   ]
  },
  {
   "cell_type": "markdown",
   "id": "e9d7e97a-f92e-411d-8c62-1608d7820af7",
   "metadata": {},
   "source": [
    "### The Experiment: Testing GPT-4’s Text Rendering Abilities\n",
    "\n",
    "I prompted ChatGPT-4 to generate images containing specific text, such as:\n",
    "\n",
    "1. A dog wearing a Penn hat on the moon while riding a bike.\n",
    "\n",
    "2. A man wearing a T-shirt that says \"I love Professor Matt.\"\n",
    "\n",
    "3. A happy student wearing a T-shirt that says \"Talking With AI: Computational And Communication Approaches.\"\n",
    "\n",
    "Below are some key observations from my generated images and conversations with GPT-4:"
   ]
  },
  {
   "cell_type": "markdown",
   "id": "28b4f8ce-0eb8-47b7-ab32-026a9efd5f34",
   "metadata": {},
   "source": [
    "<img src=\"1.png\" width=\"50%\"/>\n",
    "\n"
   ]
  },
  {
   "cell_type": "markdown",
   "id": "86da00ec-beac-49ed-912b-a328b9d3f9a5",
   "metadata": {},
   "source": [
    "<img src=\"2.png\" width=\"50%\"/>\n"
   ]
  },
  {
   "cell_type": "markdown",
   "id": "e609501e-a179-4060-bfda-7f4107603ea2",
   "metadata": {},
   "source": [
    "<img src=\"5.png\" width=\"50%\"/>\n"
   ]
  },
  {
   "cell_type": "markdown",
   "id": "c1b61d7f-cb33-428a-915c-1fd16a95c06c",
   "metadata": {},
   "source": [
    "<img src=\"3.png\" width=\"50%\"/>\n"
   ]
  },
  {
   "cell_type": "markdown",
   "id": "22550294-d19a-4a31-b60a-5513445b3c27",
   "metadata": {},
   "source": [
    "<img src=\"4.png\" width=\"50%\"/>\n"
   ]
  },
  {
   "cell_type": "markdown",
   "id": "0f185c75-dea4-4e1c-983e-978feba55956",
   "metadata": {},
   "source": [
    "**2. The Paradox: AI Can Render the Abstract but Fails at Simple Text**\n",
    "\n",
    "One of the most fascinating contradictions in AI image generation is how well it can produce highly imaginative, surreal visuals—yet it fails at something as seemingly simple as rendering a word. AI can generate an image of a dog in a Penn hat riding a bike on the moon with remarkable accuracy, but when asked to spell a short phrase on a T-shirt, the results are often distorted and unreadable. Why is this?\n",
    "\n",
    "Complexity vs. Specificity: AI-generated images thrive on creating abstract and dynamic visuals because they are based on patterns seen in large datasets. Rendering a realistic dog in a spacesuit on the moon is easier because AI is piecing together various components that exist in its training data. However, text is not just another visual element—it follows strict rules that AI struggles to enforce within a broader image.\n",
    "\n",
    "Pixelation and Fragmentation: When AI generates an image, it does so by predicting pixels based on surrounding visual data. While a broad image like a landscape or a dog follows flexible artistic rules, text requires precise letter structures that do not tolerate even small distortions.\n",
    "\n",
    "Lack of Text-Specific Training: AI models like DALL·E are trained on vast datasets containing images, but their understanding of how to structure text within those images is often weak. Unlike a traditional OCR (Optical Character Recognition) system that processes text with precision, AI-generated text is often an approximation based on visual similarities rather than structured rules of writing."
   ]
  },
  {
   "cell_type": "markdown",
   "id": "90c140df-e2bd-4191-81b4-fd87ed4492ea",
   "metadata": {},
   "source": [
    "**3. The Role of Prompt Engineering**\n",
    "\n",
    "One of the most interesting takeaways from my experiments was how much the quality of AI-generated text improved with refined prompts. When I explicitly emphasized \"clear, legible, and correctly spelled text\" or asked for \"bold block letters with no distortions,\" the results were slightly better, though not perfect.\n",
    "\n",
    "This suggests that while AI has some ability to refine outputs based on user specifications, it still lacks the inherent precision of a system built specifically for text rendering, such as traditional graphic design software."
   ]
  },
  {
   "cell_type": "markdown",
   "id": "a97e4239-c4ec-4459-ab42-985162b4b9fc",
   "metadata": {},
   "source": [
    "### What This Means for AI’s Future in Text-Embedded Images \n",
    "\n",
    "Despite its current limitations, AI’s text-generation capabilities in images are improving. Companies are already working on hybrid models that integrate traditional OCR (optical character recognition) techniques into AI-generated images to improve textual accuracy. Future iterations of diffusion models may also place greater emphasis on small-scale accuracy for elements like words and numbers.\n",
    "\n",
    "For now, if you’re using AI-generated images for branding, presentations, or any setting where text clarity is crucial, it’s best to:\n",
    "\n",
    "- Manually edit AI-generated images to correct any text issues.\n",
    "\n",
    "- Use AI primarily for visual concepts rather than finalized designs.\n",
    "\n",
    "- Continue refining prompts to achieve the clearest possible results.\n",
    "\n",
    "### Final Thoughts\n",
    "\n",
    "AI’s inability to generate perfect text in images serves as a fascinating reminder of its strengths and weaknesses. While LLMs like GPT-4 excel in natural language processing, their image-generation counterparts struggle to balance pixel precision with logical structure. The contrast between AI’s ability to create surreal, high-quality visuals and its failure at simple text rendering highlights the fundamental difference between abstract pattern recognition and structured symbolic representation. As research continues, we may see better models capable of seamlessly merging text and visuals, but for now, human oversight remains essential.\n",
    "\n"
   ]
  },
  {
   "cell_type": "code",
   "execution_count": null,
   "id": "69000a68-04b5-4346-b1a8-a75ffc1f7580",
   "metadata": {},
   "outputs": [],
   "source": []
  }
 ],
 "metadata": {
  "citation-manager": {
   "items": {}
  },
  "kernelspec": {
   "display_name": "Python 3 (ipykernel)",
   "language": "python",
   "name": "python3"
  },
  "language_info": {
   "codemirror_mode": {
    "name": "ipython",
    "version": 3
   },
   "file_extension": ".py",
   "mimetype": "text/x-python",
   "name": "python",
   "nbconvert_exporter": "python",
   "pygments_lexer": "ipython3",
   "version": "3.10.12"
  }
 },
 "nbformat": 4,
 "nbformat_minor": 5
}
